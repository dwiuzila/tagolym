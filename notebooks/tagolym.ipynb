{
 "cells": [
  {
   "cell_type": "code",
   "execution_count": 1,
   "id": "8d41b179",
   "metadata": {},
   "outputs": [
    {
     "data": {
      "text/html": [
       "<pre style=\"white-space:pre;overflow-x:auto;line-height:normal;font-family:Menlo,'DejaVu Sans Mono',consolas,'Courier New',monospace\"><span style=\"color: #7fbfbf; text-decoration-color: #7fbfbf\">[06/14/22 18:29:00] </span><span style=\"color: #000080; text-decoration-color: #000080\">INFO    </span> Run ID: 57d31b8358bb49e682cfb72a5001c7a9              <a href=\"file://d:\\tagolym\\tagolym\\main.py\" target=\"_blank\"><span style=\"color: #7f7f7f; text-decoration-color: #7f7f7f\">main.py</span></a><span style=\"color: #7f7f7f; text-decoration-color: #7f7f7f\">:</span><a href=\"file://d:\\tagolym\\tagolym\\main.py#45\" target=\"_blank\"><span style=\"color: #7f7f7f; text-decoration-color: #7f7f7f\">45</span></a>\n",
       "</pre>\n"
      ],
      "text/plain": [
       "\u001b[2;36m[06/14/22 18:29:00]\u001b[0m\u001b[2;36m \u001b[0m\u001b[34mINFO    \u001b[0m Run ID: 57d31b8358bb49e682cfb72a5001c7a9              \u001b]8;id=618720;file://d:\\tagolym\\tagolym\\main.py\u001b\\\u001b[2mmain.py\u001b[0m\u001b]8;;\u001b\\\u001b[2m:\u001b[0m\u001b]8;id=181377;file://d:\\tagolym\\tagolym\\main.py#45\u001b\\\u001b[2m45\u001b[0m\u001b]8;;\u001b\\\n"
      ]
     },
     "metadata": {},
     "output_type": "display_data"
    },
    {
     "name": "stderr",
     "output_type": "stream",
     "text": [
      "100%|██████████| 15948/15948 [00:01<00:00, 12800.62it/s]\n",
      "100%|██████████| 3418/3418 [00:00<00:00, 22636.79it/s]\n",
      "100%|██████████| 3418/3418 [00:00<00:00, 24070.31it/s]\n"
     ]
    }
   ],
   "source": [
    "from pathlib import Path\n",
    "from config import config\n",
    "from tagolym import main\n",
    "args_fp = Path(config.CONFIG_DIR, 'args.json')\n",
    "main.train_model(args_fp, experiment_name='baselines', run_name='sgd')"
   ]
  },
  {
   "cell_type": "code",
   "execution_count": 2,
   "id": "1e498e8d",
   "metadata": {},
   "outputs": [
    {
     "name": "stderr",
     "output_type": "stream",
     "text": [
      "\u001b[32m[I 2022-06-14 18:29:45,654]\u001b[0m A new study created in memory with name: optimization\u001b[0m\n",
      "d:\\tagolym\\tagolym\\main.py:115: ExperimentalWarning: MLflowCallback is experimental (supported from v1.4.0). The interface can change in the future.\n",
      "  mlflow_callback = MLflowCallback(tracking_uri=mlflow.get_tracking_uri(), metric_name=\"f1\")\n",
      "100%|██████████| 15952/15952 [00:00<00:00, 24260.64it/s]\n",
      "100%|██████████| 3419/3419 [00:00<00:00, 22906.51it/s]\n",
      "100%|██████████| 3419/3419 [00:00<00:00, 24795.58it/s]\n",
      "\u001b[32m[I 2022-06-14 18:30:21,771]\u001b[0m Trial 0 finished with value: 0.8316099444213589 and parameters: {'nocommand': False, 'stem': True, 'ngram_max_range': 2, 'loss': 'modified_huber', 'l1_ratio': 0.6011150117432088, 'alpha': 0.001331121608073689}. Best is trial 0 with value: 0.8316099444213589.\u001b[0m\n",
      "100%|██████████| 15952/15952 [00:00<00:00, 26328.29it/s]\n",
      "100%|██████████| 3419/3419 [00:00<00:00, 24695.62it/s]\n",
      "100%|██████████| 3419/3419 [00:00<00:00, 24202.92it/s]\n",
      "\u001b[32m[I 2022-06-14 18:30:57,810]\u001b[0m Trial 1 finished with value: 0.8490624115842942 and parameters: {'nocommand': False, 'stem': True, 'ngram_max_range': 2, 'loss': 'modified_huber', 'l1_ratio': 0.43194501864211576, 'alpha': 7.476312062252303e-05}. Best is trial 1 with value: 0.8490624115842942.\u001b[0m\n",
      "100%|██████████| 15948/15948 [00:00<00:00, 27031.00it/s]\n",
      "100%|██████████| 3418/3418 [00:00<00:00, 16798.76it/s]\n",
      "100%|██████████| 3418/3418 [00:00<00:00, 19457.87it/s]\n",
      "\u001b[32m[I 2022-06-14 18:31:24,118]\u001b[0m Trial 2 finished with value: 0.85510548874456 and parameters: {'nocommand': True, 'stem': False, 'ngram_max_range': 3, 'loss': 'hinge', 'l1_ratio': 0.5924145688620425, 'alpha': 1.3783237455007187e-05}. Best is trial 2 with value: 0.85510548874456.\u001b[0m\n",
      "100%|██████████| 15948/15948 [00:00<00:00, 18986.30it/s]\n",
      "100%|██████████| 3418/3418 [00:00<00:00, 19094.04it/s]\n",
      "100%|██████████| 3418/3418 [00:00<00:00, 7414.45it/s]\n",
      "\u001b[32m[I 2022-06-14 18:31:52,718]\u001b[0m Trial 3 finished with value: 0.84042015614683 and parameters: {'nocommand': True, 'stem': False, 'ngram_max_range': 4, 'loss': 'hinge', 'l1_ratio': 0.6842330265121569, 'alpha': 0.00020914981329035596}. Best is trial 2 with value: 0.85510548874456.\u001b[0m\n",
      "100%|██████████| 15952/15952 [00:00<00:00, 26955.16it/s]\n",
      "100%|██████████| 3419/3419 [00:00<00:00, 23316.73it/s]\n",
      "100%|██████████| 3419/3419 [00:00<00:00, 26688.71it/s]\n",
      "\u001b[32m[I 2022-06-14 18:32:15,396]\u001b[0m Trial 4 finished with value: 0.8500444077094063 and parameters: {'nocommand': False, 'stem': False, 'ngram_max_range': 2, 'loss': 'hinge', 'l1_ratio': 0.5467102793432796, 'alpha': 3.585612610345396e-05}. Best is trial 2 with value: 0.85510548874456.\u001b[0m\n",
      "100%|██████████| 15948/15948 [00:00<00:00, 23704.29it/s]\n",
      "100%|██████████| 3418/3418 [00:00<00:00, 8600.81it/s]\n",
      "100%|██████████| 3418/3418 [00:00<00:00, 6109.89it/s]\n",
      "\u001b[32m[I 2022-06-14 18:32:54,317]\u001b[0m Trial 5 finished with value: 0.8586474886199349 and parameters: {'nocommand': True, 'stem': True, 'ngram_max_range': 3, 'loss': 'hinge', 'l1_ratio': 0.045227288910538066, 'alpha': 9.46217535646148e-05}. Best is trial 5 with value: 0.8586474886199349.\u001b[0m\n",
      "100%|██████████| 15948/15948 [00:00<00:00, 24979.91it/s]\n",
      "100%|██████████| 3418/3418 [00:00<00:00, 22908.19it/s]\n",
      "100%|██████████| 3418/3418 [00:00<00:00, 24166.96it/s]\n",
      "\u001b[32m[I 2022-06-14 18:33:30,636]\u001b[0m Trial 6 finished with value: 0.8184519316472021 and parameters: {'nocommand': True, 'stem': True, 'ngram_max_range': 2, 'loss': 'modified_huber', 'l1_ratio': 0.07455064367977082, 'alpha': 0.009133995846860976}. Best is trial 5 with value: 0.8586474886199349.\u001b[0m\n",
      "100%|██████████| 15948/15948 [00:00<00:00, 26311.17it/s]\n",
      "100%|██████████| 3418/3418 [00:00<00:00, 9848.71it/s] \n",
      "100%|██████████| 3418/3418 [00:00<00:00, 22488.26it/s]\n",
      "\u001b[32m[I 2022-06-14 18:33:58,729]\u001b[0m Trial 7 finished with value: 0.8532747285775989 and parameters: {'nocommand': True, 'stem': False, 'ngram_max_range': 4, 'loss': 'log', 'l1_ratio': 0.3584657285442726, 'alpha': 2.2264204303769678e-05}. Best is trial 5 with value: 0.8586474886199349.\u001b[0m\n",
      "100%|██████████| 15948/15948 [00:00<00:00, 25503.91it/s]\n",
      "100%|██████████| 3418/3418 [00:00<00:00, 23460.59it/s]\n",
      "100%|██████████| 3418/3418 [00:00<00:00, 25085.88it/s]\n",
      "\u001b[32m[I 2022-06-14 18:34:33,673]\u001b[0m Trial 8 finished with value: 0.8372488677024844 and parameters: {'nocommand': True, 'stem': True, 'ngram_max_range': 2, 'loss': 'log', 'l1_ratio': 0.8872127425763265, 'alpha': 0.00026100256506134784}. Best is trial 5 with value: 0.8586474886199349.\u001b[0m\n",
      "100%|██████████| 15952/15952 [00:00<00:00, 20798.81it/s]\n",
      "100%|██████████| 3419/3419 [00:00<00:00, 13955.29it/s]\n",
      "100%|██████████| 3419/3419 [00:00<00:00, 16359.29it/s]\n",
      "\u001b[32m[I 2022-06-14 18:35:16,329]\u001b[0m Trial 9 finished with value: 0.8489485766146802 and parameters: {'nocommand': False, 'stem': True, 'ngram_max_range': 4, 'loss': 'log', 'l1_ratio': 0.02541912674409519, 'alpha': 2.1070472806578224e-05}. Best is trial 5 with value: 0.8586474886199349.\u001b[0m\n",
      "100%|██████████| 15948/15948 [00:00<00:00, 18433.79it/s]\n",
      "100%|██████████| 3418/3418 [00:00<00:00, 19759.15it/s]\n",
      "100%|██████████| 3418/3418 [00:00<00:00, 11626.15it/s]\n",
      "\u001b[32m[I 2022-06-14 18:35:54,380]\u001b[0m Trial 10 finished with value: 0.8296369609714412 and parameters: {'nocommand': True, 'stem': True, 'ngram_max_range': 3, 'loss': 'hinge', 'l1_ratio': 0.20317732021302487, 'alpha': 0.0011769044926591642}. Best is trial 5 with value: 0.8586474886199349.\u001b[0m\n",
      "100%|██████████| 15948/15948 [00:01<00:00, 15494.61it/s]\n",
      "100%|██████████| 3418/3418 [00:00<00:00, 14422.01it/s]\n",
      "100%|██████████| 3418/3418 [00:00<00:00, 22558.29it/s]\n",
      "\u001b[32m[I 2022-06-14 18:36:20,116]\u001b[0m Trial 11 finished with value: 0.8532838154418275 and parameters: {'nocommand': True, 'stem': False, 'ngram_max_range': 3, 'loss': 'hinge', 'l1_ratio': 0.8207033393994186, 'alpha': 1.0410485131114793e-05}. Best is trial 5 with value: 0.8586474886199349.\u001b[0m\n",
      "100%|██████████| 15948/15948 [00:00<00:00, 25395.67it/s]\n",
      "100%|██████████| 3418/3418 [00:00<00:00, 20106.89it/s]\n",
      "100%|██████████| 3418/3418 [00:00<00:00, 6445.20it/s]\n",
      "\u001b[32m[I 2022-06-14 18:36:46,365]\u001b[0m Trial 12 finished with value: 0.8539589745131599 and parameters: {'nocommand': True, 'stem': False, 'ngram_max_range': 3, 'loss': 'hinge', 'l1_ratio': 0.31615030538102024, 'alpha': 9.711724707816161e-05}. Best is trial 5 with value: 0.8586474886199349.\u001b[0m\n",
      "100%|██████████| 15948/15948 [00:00<00:00, 25529.41it/s]\n",
      "100%|██████████| 3418/3418 [00:00<00:00, 7414.55it/s]\n",
      "100%|██████████| 3418/3418 [00:00<00:00, 4406.81it/s]\n",
      "\u001b[32m[I 2022-06-14 18:37:14,128]\u001b[0m Trial 13 finished with value: 0.8566356682745123 and parameters: {'nocommand': True, 'stem': False, 'ngram_max_range': 3, 'loss': 'hinge', 'l1_ratio': 0.681306815521197, 'alpha': 6.65970389393196e-05}. Best is trial 5 with value: 0.8586474886199349.\u001b[0m\n",
      "100%|██████████| 15948/15948 [00:00<00:00, 27231.19it/s]\n",
      "100%|██████████| 3418/3418 [00:00<00:00, 22939.68it/s]\n",
      "100%|██████████| 3418/3418 [00:00<00:00, 20843.03it/s]\n",
      "\u001b[32m[I 2022-06-14 18:37:39,073]\u001b[0m Trial 14 finished with value: 0.851894086271786 and parameters: {'nocommand': True, 'stem': False, 'ngram_max_range': 3, 'loss': 'hinge', 'l1_ratio': 0.9674364834653937, 'alpha': 7.451221422012647e-05}. Best is trial 5 with value: 0.8586474886199349.\u001b[0m\n",
      "100%|██████████| 15948/15948 [00:00<00:00, 19850.89it/s]\n",
      "100%|██████████| 3418/3418 [00:00<00:00, 19646.13it/s]\n",
      "100%|██████████| 3418/3418 [00:00<00:00, 15166.64it/s]\n",
      "\u001b[32m[I 2022-06-14 18:38:17,246]\u001b[0m Trial 15 finished with value: 0.8211686411150388 and parameters: {'nocommand': True, 'stem': True, 'ngram_max_range': 3, 'loss': 'hinge', 'l1_ratio': 0.7071084770468725, 'alpha': 0.0008590551698794434}. Best is trial 5 with value: 0.8586474886199349.\u001b[0m\n",
      "100%|██████████| 15948/15948 [00:01<00:00, 12615.68it/s]\n",
      "100%|██████████| 3418/3418 [00:00<00:00, 18280.43it/s]\n",
      "100%|██████████| 3418/3418 [00:00<00:00, 19989.84it/s]\n",
      "\u001b[32m[I 2022-06-14 18:38:45,863]\u001b[0m Trial 16 finished with value: 0.8494189137316315 and parameters: {'nocommand': True, 'stem': False, 'ngram_max_range': 4, 'loss': 'hinge', 'l1_ratio': 0.1923598785883956, 'alpha': 0.00013715294253000945}. Best is trial 5 with value: 0.8586474886199349.\u001b[0m\n",
      "100%|██████████| 15948/15948 [00:00<00:00, 25902.17it/s]\n",
      "100%|██████████| 3418/3418 [00:00<00:00, 8481.52it/s]\n",
      "100%|██████████| 3418/3418 [00:00<00:00, 19990.73it/s]\n",
      "\u001b[32m[I 2022-06-14 18:39:24,258]\u001b[0m Trial 17 finished with value: 0.8543572814068043 and parameters: {'nocommand': True, 'stem': True, 'ngram_max_range': 3, 'loss': 'hinge', 'l1_ratio': 0.7866278717699986, 'alpha': 4.735706854426618e-05}. Best is trial 5 with value: 0.8586474886199349.\u001b[0m\n",
      "100%|██████████| 15952/15952 [00:00<00:00, 26703.36it/s]\n",
      "100%|██████████| 3419/3419 [00:00<00:00, 15063.46it/s]\n",
      "100%|██████████| 3419/3419 [00:00<00:00, 15333.24it/s]\n",
      "\u001b[32m[I 2022-06-14 18:39:50,115]\u001b[0m Trial 18 finished with value: 0.8408266055329859 and parameters: {'nocommand': False, 'stem': False, 'ngram_max_range': 3, 'loss': 'modified_huber', 'l1_ratio': 0.4635948403953022, 'alpha': 0.0005153064270019567}. Best is trial 5 with value: 0.8586474886199349.\u001b[0m\n",
      "100%|██████████| 15948/15948 [00:00<00:00, 25703.19it/s]\n",
      "100%|██████████| 3418/3418 [00:00<00:00, 10307.60it/s]\n",
      "100%|██████████| 3418/3418 [00:00<00:00, 21502.64it/s]\n",
      "\u001b[32m[I 2022-06-14 18:40:30,444]\u001b[0m Trial 19 finished with value: 0.7647906390450843 and parameters: {'nocommand': True, 'stem': True, 'ngram_max_range': 4, 'loss': 'log', 'l1_ratio': 0.17036880819841754, 'alpha': 0.0037927099025923754}. Best is trial 5 with value: 0.8586474886199349.\u001b[0m\n",
      "100%|██████████| 15948/15948 [00:00<00:00, 26213.02it/s]\n",
      "100%|██████████| 3418/3418 [00:00<00:00, 14881.76it/s]\n",
      "100%|██████████| 3418/3418 [00:00<00:00, 10246.61it/s]\n",
      "\u001b[32m[I 2022-06-14 18:41:08,890]\u001b[0m Trial 20 finished with value: 0.8333355879817799 and parameters: {'learning_rate': 'invscaling', 'eta0': 0.25965037677653763, 'power_t': 0.36661425572308765}. Best is trial 5 with value: 0.8586474886199349.\u001b[0m\n",
      "100%|██████████| 15948/15948 [00:00<00:00, 24217.20it/s]\n",
      "100%|██████████| 3418/3418 [00:00<00:00, 15221.04it/s]\n",
      "100%|██████████| 3418/3418 [00:00<00:00, 17274.67it/s]\n",
      "\u001b[32m[I 2022-06-14 18:41:46,957]\u001b[0m Trial 21 finished with value: 0.8586474886199349 and parameters: {'learning_rate': 'optimal'}. Best is trial 5 with value: 0.8586474886199349.\u001b[0m\n",
      "100%|██████████| 15948/15948 [00:01<00:00, 14138.50it/s]\n",
      "100%|██████████| 3418/3418 [00:00<00:00, 11347.77it/s]\n",
      "100%|██████████| 3418/3418 [00:00<00:00, 10681.34it/s]\n",
      "\u001b[32m[I 2022-06-14 18:42:27,896]\u001b[0m Trial 22 finished with value: 0.8586474886199349 and parameters: {'learning_rate': 'optimal'}. Best is trial 5 with value: 0.8586474886199349.\u001b[0m\n",
      "100%|██████████| 15948/15948 [00:00<00:00, 19080.78it/s]\n",
      "100%|██████████| 3418/3418 [00:00<00:00, 8100.54it/s]\n",
      "100%|██████████| 3418/3418 [00:00<00:00, 19759.04it/s]\n",
      "\u001b[32m[I 2022-06-14 18:43:06,527]\u001b[0m Trial 23 finished with value: 0.8586474886199349 and parameters: {'learning_rate': 'optimal'}. Best is trial 5 with value: 0.8586474886199349.\u001b[0m\n",
      "100%|██████████| 15948/15948 [00:00<00:00, 24796.56it/s]\n",
      "100%|██████████| 3418/3418 [00:00<00:00, 20108.24it/s]\n",
      "100%|██████████| 3418/3418 [00:00<00:00, 10838.82it/s]\n",
      "\u001b[32m[I 2022-06-14 18:43:44,863]\u001b[0m Trial 24 finished with value: 0.8586474886199349 and parameters: {'learning_rate': 'optimal'}. Best is trial 5 with value: 0.8586474886199349.\u001b[0m\n",
      "100%|██████████| 15948/15948 [00:00<00:00, 25267.02it/s]\n",
      "100%|██████████| 3418/3418 [00:00<00:00, 22761.54it/s]\n",
      "100%|██████████| 3418/3418 [00:00<00:00, 22056.60it/s]\n",
      "\u001b[32m[I 2022-06-14 18:44:22,187]\u001b[0m Trial 25 finished with value: 0.8586474886199349 and parameters: {'learning_rate': 'optimal'}. Best is trial 5 with value: 0.8586474886199349.\u001b[0m\n",
      "100%|██████████| 15948/15948 [00:00<00:00, 25511.52it/s]\n",
      "100%|██████████| 3418/3418 [00:00<00:00, 11826.86it/s]\n",
      "100%|██████████| 3418/3418 [00:00<00:00, 8336.97it/s]\n",
      "\u001b[32m[I 2022-06-14 18:45:00,567]\u001b[0m Trial 26 finished with value: 0.8586474886199349 and parameters: {'learning_rate': 'optimal'}. Best is trial 5 with value: 0.8586474886199349.\u001b[0m\n",
      "100%|██████████| 15948/15948 [00:00<00:00, 25874.02it/s]\n",
      "100%|██████████| 3418/3418 [00:00<00:00, 16277.09it/s]\n",
      "100%|██████████| 3418/3418 [00:00<00:00, 21949.28it/s]\n",
      "\u001b[32m[I 2022-06-14 18:45:48,786]\u001b[0m Trial 27 finished with value: 0.8404758681903144 and parameters: {'learning_rate': 'adaptive', 'eta0': 0.011819786349763372}. Best is trial 5 with value: 0.8586474886199349.\u001b[0m\n",
      "100%|██████████| 15948/15948 [00:00<00:00, 25811.49it/s]\n",
      "100%|██████████| 3418/3418 [00:00<00:00, 20467.03it/s]\n",
      "100%|██████████| 3418/3418 [00:00<00:00, 22491.47it/s]\n",
      "\u001b[32m[I 2022-06-14 18:46:26,263]\u001b[0m Trial 28 finished with value: 0.8586474886199349 and parameters: {'learning_rate': 'optimal'}. Best is trial 5 with value: 0.8586474886199349.\u001b[0m\n",
      "100%|██████████| 15948/15948 [00:00<00:00, 22283.88it/s]\n",
      "100%|██████████| 3418/3418 [00:00<00:00, 24212.80it/s]\n",
      "100%|██████████| 3418/3418 [00:00<00:00, 13148.43it/s]\n",
      "\u001b[32m[I 2022-06-14 18:47:01,668]\u001b[0m Trial 29 finished with value: 0.8531910493211124 and parameters: {'learning_rate': 'constant', 'eta0': 0.8520499116629789}. Best is trial 5 with value: 0.8586474886199349.\u001b[0m\n",
      "100%|██████████| 15948/15948 [00:00<00:00, 27261.78it/s]\n",
      "100%|██████████| 3418/3418 [00:00<00:00, 23414.61it/s]\n",
      "100%|██████████| 3418/3418 [00:00<00:00, 17711.41it/s]\n",
      "\u001b[32m[I 2022-06-14 18:47:38,808]\u001b[0m Trial 30 finished with value: 0.8586474886199349 and parameters: {'learning_rate': 'optimal'}. Best is trial 5 with value: 0.8586474886199349.\u001b[0m\n",
      "100%|██████████| 15948/15948 [00:00<00:00, 28478.89it/s]\n",
      "100%|██████████| 3418/3418 [00:00<00:00, 24097.94it/s]\n",
      "100%|██████████| 3418/3418 [00:00<00:00, 17623.08it/s]\n",
      "\u001b[32m[I 2022-06-14 18:48:12,475]\u001b[0m Trial 31 finished with value: 0.8586474886199349 and parameters: {'learning_rate': 'optimal'}. Best is trial 5 with value: 0.8586474886199349.\u001b[0m\n",
      "100%|██████████| 15948/15948 [00:00<00:00, 22244.43it/s]\n",
      "100%|██████████| 3418/3418 [00:00<00:00, 15437.14it/s]\n",
      "100%|██████████| 3418/3418 [00:00<00:00, 22363.24it/s]\n",
      "\u001b[32m[I 2022-06-14 18:48:46,512]\u001b[0m Trial 32 finished with value: 0.8586474886199349 and parameters: {'learning_rate': 'optimal'}. Best is trial 5 with value: 0.8586474886199349.\u001b[0m\n",
      "100%|██████████| 15948/15948 [00:00<00:00, 28787.22it/s]\n",
      "100%|██████████| 3418/3418 [00:00<00:00, 19990.56it/s]\n",
      "100%|██████████| 3418/3418 [00:00<00:00, 19559.76it/s]\n",
      "\u001b[32m[I 2022-06-14 18:49:20,593]\u001b[0m Trial 33 finished with value: 0.8586474886199349 and parameters: {'learning_rate': 'optimal'}. Best is trial 5 with value: 0.8586474886199349.\u001b[0m\n",
      "100%|██████████| 15948/15948 [00:00<00:00, 22058.43it/s]\n",
      "100%|██████████| 3418/3418 [00:00<00:00, 11426.72it/s]\n",
      "100%|██████████| 3418/3418 [00:00<00:00, 13248.43it/s]\n",
      "\u001b[32m[I 2022-06-14 18:49:54,123]\u001b[0m Trial 34 finished with value: 0.8586474886199349 and parameters: {'learning_rate': 'optimal'}. Best is trial 5 with value: 0.8586474886199349.\u001b[0m\n",
      "100%|██████████| 15948/15948 [00:00<00:00, 22540.07it/s]\n",
      "100%|██████████| 3418/3418 [00:00<00:00, 14862.16it/s]\n",
      "100%|██████████| 3418/3418 [00:00<00:00, 16577.41it/s]\n",
      "\u001b[32m[I 2022-06-14 18:50:27,756]\u001b[0m Trial 35 finished with value: 0.8586474886199349 and parameters: {'learning_rate': 'optimal'}. Best is trial 5 with value: 0.8586474886199349.\u001b[0m\n",
      "100%|██████████| 15948/15948 [00:00<00:00, 21378.62it/s]\n",
      "100%|██████████| 3418/3418 [00:00<00:00, 18158.26it/s]\n",
      "100%|██████████| 3418/3418 [00:00<00:00, 13511.85it/s]\n",
      "\u001b[32m[I 2022-06-14 18:51:01,535]\u001b[0m Trial 36 finished with value: 0.8425044639643554 and parameters: {'learning_rate': 'constant', 'eta0': 0.01796127153155591}. Best is trial 5 with value: 0.8586474886199349.\u001b[0m\n",
      "100%|██████████| 15948/15948 [00:00<00:00, 25295.82it/s]\n",
      "100%|██████████| 3418/3418 [00:00<00:00, 13725.66it/s]\n",
      "100%|██████████| 3418/3418 [00:00<00:00, 19874.25it/s]\n",
      "\u001b[32m[I 2022-06-14 18:51:40,352]\u001b[0m Trial 37 finished with value: 0.8542017492297639 and parameters: {'learning_rate': 'adaptive', 'eta0': 0.06753422950586127}. Best is trial 5 with value: 0.8586474886199349.\u001b[0m\n",
      "100%|██████████| 15948/15948 [00:00<00:00, 29588.06it/s]\n",
      "100%|██████████| 3418/3418 [00:00<00:00, 27126.79it/s]\n",
      "100%|██████████| 3418/3418 [00:00<00:00, 13197.96it/s]\n",
      "\u001b[32m[I 2022-06-14 18:52:14,226]\u001b[0m Trial 38 finished with value: 0.8450379784304174 and parameters: {'learning_rate': 'invscaling', 'eta0': 0.06613644475520926, 'power_t': 0.1055917838247388}. Best is trial 5 with value: 0.8586474886199349.\u001b[0m\n",
      "100%|██████████| 15948/15948 [00:00<00:00, 19424.95it/s]\n",
      "100%|██████████| 3418/3418 [00:00<00:00, 14374.64it/s]\n",
      "100%|██████████| 3418/3418 [00:00<00:00, 19534.20it/s]\n",
      "\u001b[32m[I 2022-06-14 18:52:48,133]\u001b[0m Trial 39 finished with value: 0.8586474886199349 and parameters: {'learning_rate': 'optimal'}. Best is trial 5 with value: 0.8586474886199349.\u001b[0m\n"
     ]
    },
    {
     "data": {
      "text/html": [
       "<pre style=\"white-space:pre;overflow-x:auto;line-height:normal;font-family:Menlo,'DejaVu Sans Mono',consolas,'Courier New',monospace\"><span style=\"color: #7fbfbf; text-decoration-color: #7fbfbf\">[06/14/22 18:52:48] </span><span style=\"color: #000080; text-decoration-color: #000080\">INFO    </span> Best value <span style=\"font-weight: bold\">(</span>f1<span style=\"font-weight: bold\">)</span>: <span style=\"color: #008080; text-decoration-color: #008080; font-weight: bold\">0.8586474886199349</span>                  <a href=\"file://d:\\tagolym\\tagolym\\main.py\" target=\"_blank\"><span style=\"color: #7f7f7f; text-decoration-color: #7f7f7f\">main.py</span></a><span style=\"color: #7f7f7f; text-decoration-color: #7f7f7f\">:</span><a href=\"file://d:\\tagolym\\tagolym\\main.py#136\" target=\"_blank\"><span style=\"color: #7f7f7f; text-decoration-color: #7f7f7f\">136</span></a>\n",
       "</pre>\n"
      ],
      "text/plain": [
       "\u001b[2;36m[06/14/22 18:52:48]\u001b[0m\u001b[2;36m \u001b[0m\u001b[34mINFO    \u001b[0m Best value \u001b[1m(\u001b[0mf1\u001b[1m)\u001b[0m: \u001b[1;36m0.8586474886199349\u001b[0m                  \u001b]8;id=964625;file://d:\\tagolym\\tagolym\\main.py\u001b\\\u001b[2mmain.py\u001b[0m\u001b]8;;\u001b\\\u001b[2m:\u001b[0m\u001b]8;id=710276;file://d:\\tagolym\\tagolym\\main.py#136\u001b\\\u001b[2m136\u001b[0m\u001b]8;;\u001b\\\n"
      ]
     },
     "metadata": {},
     "output_type": "display_data"
    },
    {
     "data": {
      "text/html": [
       "<pre style=\"white-space:pre;overflow-x:auto;line-height:normal;font-family:Menlo,'DejaVu Sans Mono',consolas,'Courier New',monospace\"><span style=\"color: #7fbfbf; text-decoration-color: #7fbfbf\">                    </span><span style=\"color: #000080; text-decoration-color: #000080\">INFO    </span> Best hyperparameters: <span style=\"font-weight: bold\">{</span>                              <a href=\"file://d:\\tagolym\\tagolym\\main.py\" target=\"_blank\"><span style=\"color: #7f7f7f; text-decoration-color: #7f7f7f\">main.py</span></a><span style=\"color: #7f7f7f; text-decoration-color: #7f7f7f\">:</span><a href=\"file://d:\\tagolym\\tagolym\\main.py#137\" target=\"_blank\"><span style=\"color: #7f7f7f; text-decoration-color: #7f7f7f\">137</span></a>\n",
       "<span style=\"color: #7fbfbf; text-decoration-color: #7fbfbf\">                    </span>           <span style=\"color: #008000; text-decoration-color: #008000\">\"nocommand\"</span>: true,                                 <span style=\"color: #7f7f7f; text-decoration-color: #7f7f7f\">           </span>\n",
       "<span style=\"color: #7fbfbf; text-decoration-color: #7fbfbf\">                    </span>           <span style=\"color: #008000; text-decoration-color: #008000\">\"stem\"</span>: true,                                      <span style=\"color: #7f7f7f; text-decoration-color: #7f7f7f\">           </span>\n",
       "<span style=\"color: #7fbfbf; text-decoration-color: #7fbfbf\">                    </span>           <span style=\"color: #008000; text-decoration-color: #008000\">\"ngram_max_range\"</span>: <span style=\"color: #008080; text-decoration-color: #008080; font-weight: bold\">3</span>,                              <span style=\"color: #7f7f7f; text-decoration-color: #7f7f7f\">           </span>\n",
       "<span style=\"color: #7fbfbf; text-decoration-color: #7fbfbf\">                    </span>           <span style=\"color: #008000; text-decoration-color: #008000\">\"loss\"</span>: <span style=\"color: #008000; text-decoration-color: #008000\">\"hinge\"</span>,                                   <span style=\"color: #7f7f7f; text-decoration-color: #7f7f7f\">           </span>\n",
       "<span style=\"color: #7fbfbf; text-decoration-color: #7fbfbf\">                    </span>           <span style=\"color: #008000; text-decoration-color: #008000\">\"l1_ratio\"</span>: <span style=\"color: #008080; text-decoration-color: #008080; font-weight: bold\">0.045227288910538066</span>,                  <span style=\"color: #7f7f7f; text-decoration-color: #7f7f7f\">           </span>\n",
       "<span style=\"color: #7fbfbf; text-decoration-color: #7fbfbf\">                    </span>           <span style=\"color: #008000; text-decoration-color: #008000\">\"alpha\"</span>: <span style=\"color: #008080; text-decoration-color: #008080; font-weight: bold\">9.46217535646148e-05</span>,                     <span style=\"color: #7f7f7f; text-decoration-color: #7f7f7f\">           </span>\n",
       "<span style=\"color: #7fbfbf; text-decoration-color: #7fbfbf\">                    </span>           <span style=\"color: #008000; text-decoration-color: #008000\">\"learning_rate\"</span>: <span style=\"color: #008000; text-decoration-color: #008000\">\"optimal\"</span>,                        <span style=\"color: #7f7f7f; text-decoration-color: #7f7f7f\">           </span>\n",
       "<span style=\"color: #7fbfbf; text-decoration-color: #7fbfbf\">                    </span>           <span style=\"color: #008000; text-decoration-color: #008000\">\"eta0\"</span>: <span style=\"color: #008080; text-decoration-color: #008080; font-weight: bold\">0.06613644475520926</span>,                       <span style=\"color: #7f7f7f; text-decoration-color: #7f7f7f\">           </span>\n",
       "<span style=\"color: #7fbfbf; text-decoration-color: #7fbfbf\">                    </span>           <span style=\"color: #008000; text-decoration-color: #008000\">\"power_t\"</span>: <span style=\"color: #008080; text-decoration-color: #008080; font-weight: bold\">0.1055917838247388</span>                      <span style=\"color: #7f7f7f; text-decoration-color: #7f7f7f\">           </span>\n",
       "<span style=\"color: #7fbfbf; text-decoration-color: #7fbfbf\">                    </span>         <span style=\"font-weight: bold\">}</span>                                                    <span style=\"color: #7f7f7f; text-decoration-color: #7f7f7f\">           </span>\n",
       "</pre>\n"
      ],
      "text/plain": [
       "\u001b[2;36m                   \u001b[0m\u001b[2;36m \u001b[0m\u001b[34mINFO    \u001b[0m Best hyperparameters: \u001b[1m{\u001b[0m                              \u001b]8;id=245947;file://d:\\tagolym\\tagolym\\main.py\u001b\\\u001b[2mmain.py\u001b[0m\u001b]8;;\u001b\\\u001b[2m:\u001b[0m\u001b]8;id=147966;file://d:\\tagolym\\tagolym\\main.py#137\u001b\\\u001b[2m137\u001b[0m\u001b]8;;\u001b\\\n",
       "\u001b[2;36m                    \u001b[0m           \u001b[32m\"nocommand\"\u001b[0m: true,                                 \u001b[2m           \u001b[0m\n",
       "\u001b[2;36m                    \u001b[0m           \u001b[32m\"stem\"\u001b[0m: true,                                      \u001b[2m           \u001b[0m\n",
       "\u001b[2;36m                    \u001b[0m           \u001b[32m\"ngram_max_range\"\u001b[0m: \u001b[1;36m3\u001b[0m,                              \u001b[2m           \u001b[0m\n",
       "\u001b[2;36m                    \u001b[0m           \u001b[32m\"loss\"\u001b[0m: \u001b[32m\"hinge\"\u001b[0m,                                   \u001b[2m           \u001b[0m\n",
       "\u001b[2;36m                    \u001b[0m           \u001b[32m\"l1_ratio\"\u001b[0m: \u001b[1;36m0.045227288910538066\u001b[0m,                  \u001b[2m           \u001b[0m\n",
       "\u001b[2;36m                    \u001b[0m           \u001b[32m\"alpha\"\u001b[0m: \u001b[1;36m9.46217535646148e-05\u001b[0m,                     \u001b[2m           \u001b[0m\n",
       "\u001b[2;36m                    \u001b[0m           \u001b[32m\"learning_rate\"\u001b[0m: \u001b[32m\"optimal\"\u001b[0m,                        \u001b[2m           \u001b[0m\n",
       "\u001b[2;36m                    \u001b[0m           \u001b[32m\"eta0\"\u001b[0m: \u001b[1;36m0.06613644475520926\u001b[0m,                       \u001b[2m           \u001b[0m\n",
       "\u001b[2;36m                    \u001b[0m           \u001b[32m\"power_t\"\u001b[0m: \u001b[1;36m0.1055917838247388\u001b[0m                      \u001b[2m           \u001b[0m\n",
       "\u001b[2;36m                    \u001b[0m         \u001b[1m}\u001b[0m                                                    \u001b[2m           \u001b[0m\n"
      ]
     },
     "metadata": {},
     "output_type": "display_data"
    },
    {
     "data": {
      "text/html": [
       "<pre style=\"white-space:pre;overflow-x:auto;line-height:normal;font-family:Menlo,'DejaVu Sans Mono',consolas,'Courier New',monospace\"><span style=\"color: #7fbfbf; text-decoration-color: #7fbfbf\">                    </span><span style=\"color: #000080; text-decoration-color: #000080\">INFO    </span> Run ID: cc9d156597ef42168a916d38cf07dcbe              <a href=\"file://d:\\tagolym\\tagolym\\main.py\" target=\"_blank\"><span style=\"color: #7f7f7f; text-decoration-color: #7f7f7f\">main.py</span></a><span style=\"color: #7f7f7f; text-decoration-color: #7f7f7f\">:</span><a href=\"file://d:\\tagolym\\tagolym\\main.py#45\" target=\"_blank\"><span style=\"color: #7f7f7f; text-decoration-color: #7f7f7f\">45</span></a>\n",
       "</pre>\n"
      ],
      "text/plain": [
       "\u001b[2;36m                   \u001b[0m\u001b[2;36m \u001b[0m\u001b[34mINFO    \u001b[0m Run ID: cc9d156597ef42168a916d38cf07dcbe              \u001b]8;id=460155;file://d:\\tagolym\\tagolym\\main.py\u001b\\\u001b[2mmain.py\u001b[0m\u001b]8;;\u001b\\\u001b[2m:\u001b[0m\u001b]8;id=231961;file://d:\\tagolym\\tagolym\\main.py#45\u001b\\\u001b[2m45\u001b[0m\u001b]8;;\u001b\\\n"
      ]
     },
     "metadata": {},
     "output_type": "display_data"
    },
    {
     "name": "stderr",
     "output_type": "stream",
     "text": [
      "100%|██████████| 15948/15948 [00:00<00:00, 25889.89it/s]\n",
      "100%|██████████| 3418/3418 [00:00<00:00, 11509.28it/s]\n",
      "100%|██████████| 3418/3418 [00:00<00:00, 11026.61it/s]\n"
     ]
    }
   ],
   "source": [
    "main.optimize(args_fp, study_name='optimization', num_trials=20)\n",
    "args_fp = Path(config.CONFIG_DIR, 'args_opt.json')\n",
    "main.train_model(args_fp, experiment_name='best', run_name='sgd')"
   ]
  },
  {
   "cell_type": "code",
   "execution_count": 3,
   "id": "2dc7a433",
   "metadata": {},
   "outputs": [
    {
     "data": {
      "text/html": [
       "<pre style=\"white-space:pre;overflow-x:auto;line-height:normal;font-family:Menlo,'DejaVu Sans Mono',consolas,'Courier New',monospace\"><span style=\"color: #7fbfbf; text-decoration-color: #7fbfbf\">[06/14/22 18:53:26] </span><span style=\"color: #000080; text-decoration-color: #000080\">INFO    </span> <span style=\"font-weight: bold\">[</span>                                                    <a href=\"file://d:\\tagolym\\tagolym\\main.py\" target=\"_blank\"><span style=\"color: #7f7f7f; text-decoration-color: #7f7f7f\">main.py</span></a><span style=\"color: #7f7f7f; text-decoration-color: #7f7f7f\">:</span><a href=\"file://d:\\tagolym\\tagolym\\main.py#185\" target=\"_blank\"><span style=\"color: #7f7f7f; text-decoration-color: #7f7f7f\">185</span></a>\n",
       "<span style=\"color: #7fbfbf; text-decoration-color: #7fbfbf\">                    </span>           <span style=\"font-weight: bold\">{</span>                                                  <span style=\"color: #7f7f7f; text-decoration-color: #7f7f7f\">           </span>\n",
       "<span style=\"color: #7fbfbf; text-decoration-color: #7fbfbf\">                    </span>             <span style=\"color: #008000; text-decoration-color: #008000\">\"input_text\"</span>: <span style=\"color: #008000; text-decoration-color: #008000\">\"Let $n \\\\geqslant 100$ be an </span>     <span style=\"color: #7f7f7f; text-decoration-color: #7f7f7f\">           </span>\n",
       "<span style=\"color: #7fbfbf; text-decoration-color: #7fbfbf\">                    </span>         <span style=\"color: #008000; text-decoration-color: #008000\">integer. Ivan writes the numbers $n, n+1, \\\\ldots, 2</span> <span style=\"color: #7f7f7f; text-decoration-color: #7f7f7f\">           </span>\n",
       "<span style=\"color: #7fbfbf; text-decoration-color: #7fbfbf\">                    </span>         <span style=\"color: #008000; text-decoration-color: #008000\">n$ each on different cards. He then shuffles these </span>  <span style=\"color: #7f7f7f; text-decoration-color: #7f7f7f\">           </span>\n",
       "<span style=\"color: #7fbfbf; text-decoration-color: #7fbfbf\">                    </span>         <span style=\"color: #008000; text-decoration-color: #008000\">$n+1$ cards, and divides them into two piles. Prove </span> <span style=\"color: #7f7f7f; text-decoration-color: #7f7f7f\">           </span>\n",
       "<span style=\"color: #7fbfbf; text-decoration-color: #7fbfbf\">                    </span>         <span style=\"color: #008000; text-decoration-color: #008000\">that at least one of the piles contains two cards </span>   <span style=\"color: #7f7f7f; text-decoration-color: #7f7f7f\">           </span>\n",
       "<span style=\"color: #7fbfbf; text-decoration-color: #7fbfbf\">                    </span>         <span style=\"color: #008000; text-decoration-color: #008000\">such that the sum of their numbers is a perfect </span>     <span style=\"color: #7f7f7f; text-decoration-color: #7f7f7f\">           </span>\n",
       "<span style=\"color: #7fbfbf; text-decoration-color: #7fbfbf\">                    </span>         <span style=\"color: #008000; text-decoration-color: #008000\">square.\"</span>,                                            <span style=\"color: #7f7f7f; text-decoration-color: #7f7f7f\">           </span>\n",
       "<span style=\"color: #7fbfbf; text-decoration-color: #7fbfbf\">                    </span>             <span style=\"color: #008000; text-decoration-color: #008000\">\"predicted_tags\"</span>: <span style=\"font-weight: bold\">[</span>                              <span style=\"color: #7f7f7f; text-decoration-color: #7f7f7f\">           </span>\n",
       "<span style=\"color: #7fbfbf; text-decoration-color: #7fbfbf\">                    </span>               <span style=\"color: #008000; text-decoration-color: #008000\">\"combinatorics\"</span>                                <span style=\"color: #7f7f7f; text-decoration-color: #7f7f7f\">           </span>\n",
       "<span style=\"color: #7fbfbf; text-decoration-color: #7fbfbf\">                    </span>             <span style=\"font-weight: bold\">]</span>                                                <span style=\"color: #7f7f7f; text-decoration-color: #7f7f7f\">           </span>\n",
       "<span style=\"color: #7fbfbf; text-decoration-color: #7fbfbf\">                    </span>           <span style=\"font-weight: bold\">}</span>,                                                 <span style=\"color: #7f7f7f; text-decoration-color: #7f7f7f\">           </span>\n",
       "<span style=\"color: #7fbfbf; text-decoration-color: #7fbfbf\">                    </span>           <span style=\"font-weight: bold\">{</span>                                                  <span style=\"color: #7f7f7f; text-decoration-color: #7f7f7f\">           </span>\n",
       "<span style=\"color: #7fbfbf; text-decoration-color: #7fbfbf\">                    </span>             <span style=\"color: #008000; text-decoration-color: #008000\">\"input_text\"</span>: <span style=\"color: #008000; text-decoration-color: #008000\">\"Show that the </span>                    <span style=\"color: #7f7f7f; text-decoration-color: #7f7f7f\">           </span>\n",
       "<span style=\"color: #7fbfbf; text-decoration-color: #7fbfbf\">                    </span>         <span style=\"color: #008000; text-decoration-color: #008000\">inequality\\[\\\\sum_{i=1}^n \\\\sum_{j=1}^n </span>             <span style=\"color: #7f7f7f; text-decoration-color: #7f7f7f\">           </span>\n",
       "<span style=\"color: #7fbfbf; text-decoration-color: #7fbfbf\">                    </span>         <span style=\"color: #008000; text-decoration-color: #008000\">\\\\sqrt{|x_i-x_j|}\\\\leqslant \\\\sum_{i=1}^n </span>           <span style=\"color: #7f7f7f; text-decoration-color: #7f7f7f\">           </span>\n",
       "<span style=\"color: #7fbfbf; text-decoration-color: #7fbfbf\">                    </span>         <span style=\"color: #008000; text-decoration-color: #008000\">\\\\sum_{j=1}^n \\\\sqrt{|x_i+x_j|}\\\\]holds for all real</span> <span style=\"color: #7f7f7f; text-decoration-color: #7f7f7f\">           </span>\n",
       "<span style=\"color: #7fbfbf; text-decoration-color: #7fbfbf\">                    </span>         <span style=\"color: #008000; text-decoration-color: #008000\">numbers $x_1,\\\\ldots x_n.$\"</span>,                         <span style=\"color: #7f7f7f; text-decoration-color: #7f7f7f\">           </span>\n",
       "<span style=\"color: #7fbfbf; text-decoration-color: #7fbfbf\">                    </span>             <span style=\"color: #008000; text-decoration-color: #008000\">\"predicted_tags\"</span>: <span style=\"font-weight: bold\">[</span>                              <span style=\"color: #7f7f7f; text-decoration-color: #7f7f7f\">           </span>\n",
       "<span style=\"color: #7fbfbf; text-decoration-color: #7fbfbf\">                    </span>               <span style=\"color: #008000; text-decoration-color: #008000\">\"algebra\"</span>                                      <span style=\"color: #7f7f7f; text-decoration-color: #7f7f7f\">           </span>\n",
       "<span style=\"color: #7fbfbf; text-decoration-color: #7fbfbf\">                    </span>             <span style=\"font-weight: bold\">]</span>                                                <span style=\"color: #7f7f7f; text-decoration-color: #7f7f7f\">           </span>\n",
       "<span style=\"color: #7fbfbf; text-decoration-color: #7fbfbf\">                    </span>           <span style=\"font-weight: bold\">}</span>,                                                 <span style=\"color: #7f7f7f; text-decoration-color: #7f7f7f\">           </span>\n",
       "<span style=\"color: #7fbfbf; text-decoration-color: #7fbfbf\">                    </span>           <span style=\"font-weight: bold\">{</span>                                                  <span style=\"color: #7f7f7f; text-decoration-color: #7f7f7f\">           </span>\n",
       "<span style=\"color: #7fbfbf; text-decoration-color: #7fbfbf\">                    </span>             <span style=\"color: #008000; text-decoration-color: #008000\">\"input_text\"</span>: <span style=\"color: #008000; text-decoration-color: #008000\">\"Let $D$ be an interior point of </span>  <span style=\"color: #7f7f7f; text-decoration-color: #7f7f7f\">           </span>\n",
       "<span style=\"color: #7fbfbf; text-decoration-color: #7fbfbf\">                    </span>         <span style=\"color: #008000; text-decoration-color: #008000\">the acute triangle $ABC$ with $AB &gt; AC$ so that </span>     <span style=\"color: #7f7f7f; text-decoration-color: #7f7f7f\">           </span>\n",
       "<span style=\"color: #7fbfbf; text-decoration-color: #7fbfbf\">                    </span>         <span style=\"color: #008000; text-decoration-color: #008000\">$\\u0007ngle DAB = \\u0007ngle CAD.$ The point $E$ on </span> <span style=\"color: #7f7f7f; text-decoration-color: #7f7f7f\">           </span>\n",
       "<span style=\"color: #7fbfbf; text-decoration-color: #7fbfbf\">                    </span>         <span style=\"color: #008000; text-decoration-color: #008000\">the segment $AC$ satisfies $\\u0007ngle ADE </span>          <span style=\"color: #7f7f7f; text-decoration-color: #7f7f7f\">           </span>\n",
       "<span style=\"color: #7fbfbf; text-decoration-color: #7fbfbf\">                    </span>         <span style=\"color: #008000; text-decoration-color: #008000\">=\\u0007ngle BCD,$ the point $F$ on the segment $AB$ </span> <span style=\"color: #7f7f7f; text-decoration-color: #7f7f7f\">           </span>\n",
       "<span style=\"color: #7fbfbf; text-decoration-color: #7fbfbf\">                    </span>         <span style=\"color: #008000; text-decoration-color: #008000\">satisfies $\\u0007ngle FDA =\\u0007ngle DBC,$ and the </span> <span style=\"color: #7f7f7f; text-decoration-color: #7f7f7f\">           </span>\n",
       "<span style=\"color: #7fbfbf; text-decoration-color: #7fbfbf\">                    </span>         <span style=\"color: #008000; text-decoration-color: #008000\">point $X$ on the line $AC$ satisfies $CX = BX.$ Let </span> <span style=\"color: #7f7f7f; text-decoration-color: #7f7f7f\">           </span>\n",
       "<span style=\"color: #7fbfbf; text-decoration-color: #7fbfbf\">                    </span>         <span style=\"color: #008000; text-decoration-color: #008000\">$O_1$ and $O_2$ be the circumcenters of the </span>         <span style=\"color: #7f7f7f; text-decoration-color: #7f7f7f\">           </span>\n",
       "<span style=\"color: #7fbfbf; text-decoration-color: #7fbfbf\">                    </span>         <span style=\"color: #008000; text-decoration-color: #008000\">triangles $ADC$ and $EXD,$ respectively. Prove that </span> <span style=\"color: #7f7f7f; text-decoration-color: #7f7f7f\">           </span>\n",
       "<span style=\"color: #7fbfbf; text-decoration-color: #7fbfbf\">                    </span>         <span style=\"color: #008000; text-decoration-color: #008000\">the lines $BC, EF,$ and $O_1O_2$ are concurrent.\"</span>,   <span style=\"color: #7f7f7f; text-decoration-color: #7f7f7f\">           </span>\n",
       "<span style=\"color: #7fbfbf; text-decoration-color: #7fbfbf\">                    </span>             <span style=\"color: #008000; text-decoration-color: #008000\">\"predicted_tags\"</span>: <span style=\"font-weight: bold\">[</span>                              <span style=\"color: #7f7f7f; text-decoration-color: #7f7f7f\">           </span>\n",
       "<span style=\"color: #7fbfbf; text-decoration-color: #7fbfbf\">                    </span>               <span style=\"color: #008000; text-decoration-color: #008000\">\"geometry\"</span>                                     <span style=\"color: #7f7f7f; text-decoration-color: #7f7f7f\">           </span>\n",
       "<span style=\"color: #7fbfbf; text-decoration-color: #7fbfbf\">                    </span>             <span style=\"font-weight: bold\">]</span>                                                <span style=\"color: #7f7f7f; text-decoration-color: #7f7f7f\">           </span>\n",
       "<span style=\"color: #7fbfbf; text-decoration-color: #7fbfbf\">                    </span>           <span style=\"font-weight: bold\">}</span>                                                  <span style=\"color: #7f7f7f; text-decoration-color: #7f7f7f\">           </span>\n",
       "<span style=\"color: #7fbfbf; text-decoration-color: #7fbfbf\">                    </span>         <span style=\"font-weight: bold\">]</span>                                                    <span style=\"color: #7f7f7f; text-decoration-color: #7f7f7f\">           </span>\n",
       "</pre>\n"
      ],
      "text/plain": [
       "\u001b[2;36m[06/14/22 18:53:26]\u001b[0m\u001b[2;36m \u001b[0m\u001b[34mINFO    \u001b[0m \u001b[1m[\u001b[0m                                                    \u001b]8;id=725587;file://d:\\tagolym\\tagolym\\main.py\u001b\\\u001b[2mmain.py\u001b[0m\u001b]8;;\u001b\\\u001b[2m:\u001b[0m\u001b]8;id=49646;file://d:\\tagolym\\tagolym\\main.py#185\u001b\\\u001b[2m185\u001b[0m\u001b]8;;\u001b\\\n",
       "\u001b[2;36m                    \u001b[0m           \u001b[1m{\u001b[0m                                                  \u001b[2m           \u001b[0m\n",
       "\u001b[2;36m                    \u001b[0m             \u001b[32m\"input_text\"\u001b[0m: \u001b[32m\"Let $n \\\\geqslant 100$ be an \u001b[0m     \u001b[2m           \u001b[0m\n",
       "\u001b[2;36m                    \u001b[0m         \u001b[32minteger. Ivan writes the numbers $n, n+1, \\\\ldots, 2\u001b[0m \u001b[2m           \u001b[0m\n",
       "\u001b[2;36m                    \u001b[0m         \u001b[32mn$ each on different cards. He then shuffles these \u001b[0m  \u001b[2m           \u001b[0m\n",
       "\u001b[2;36m                    \u001b[0m         \u001b[32m$n+1$ cards, and divides them into two piles. Prove \u001b[0m \u001b[2m           \u001b[0m\n",
       "\u001b[2;36m                    \u001b[0m         \u001b[32mthat at least one of the piles contains two cards \u001b[0m   \u001b[2m           \u001b[0m\n",
       "\u001b[2;36m                    \u001b[0m         \u001b[32msuch that the sum of their numbers is a perfect \u001b[0m     \u001b[2m           \u001b[0m\n",
       "\u001b[2;36m                    \u001b[0m         \u001b[32msquare.\"\u001b[0m,                                            \u001b[2m           \u001b[0m\n",
       "\u001b[2;36m                    \u001b[0m             \u001b[32m\"predicted_tags\"\u001b[0m: \u001b[1m[\u001b[0m                              \u001b[2m           \u001b[0m\n",
       "\u001b[2;36m                    \u001b[0m               \u001b[32m\"combinatorics\"\u001b[0m                                \u001b[2m           \u001b[0m\n",
       "\u001b[2;36m                    \u001b[0m             \u001b[1m]\u001b[0m                                                \u001b[2m           \u001b[0m\n",
       "\u001b[2;36m                    \u001b[0m           \u001b[1m}\u001b[0m,                                                 \u001b[2m           \u001b[0m\n",
       "\u001b[2;36m                    \u001b[0m           \u001b[1m{\u001b[0m                                                  \u001b[2m           \u001b[0m\n",
       "\u001b[2;36m                    \u001b[0m             \u001b[32m\"input_text\"\u001b[0m: \u001b[32m\"Show that the \u001b[0m                    \u001b[2m           \u001b[0m\n",
       "\u001b[2;36m                    \u001b[0m         \u001b[32minequality\\\u001b[0m\u001b[32m[\u001b[0m\u001b[32m\\\\sum_\u001b[0m\u001b[32m{\u001b[0m\u001b[32mi\u001b[0m\u001b[32m=\u001b[0m\u001b[32m1\u001b[0m\u001b[32m}\u001b[0m\u001b[32m^n \\\\sum_\u001b[0m\u001b[32m{\u001b[0m\u001b[32mj\u001b[0m\u001b[32m=\u001b[0m\u001b[32m1\u001b[0m\u001b[32m}\u001b[0m\u001b[32m^n \u001b[0m             \u001b[2m           \u001b[0m\n",
       "\u001b[2;36m                    \u001b[0m         \u001b[32m\\\\sqrt\u001b[0m\u001b[32m{\u001b[0m\u001b[32m|x_i-x_j|\u001b[0m\u001b[32m}\u001b[0m\u001b[32m\\\\leqslant \\\\sum_\u001b[0m\u001b[32m{\u001b[0m\u001b[32mi\u001b[0m\u001b[32m=\u001b[0m\u001b[32m1\u001b[0m\u001b[32m}\u001b[0m\u001b[32m^n \u001b[0m           \u001b[2m           \u001b[0m\n",
       "\u001b[2;36m                    \u001b[0m         \u001b[32m\\\\sum_\u001b[0m\u001b[32m{\u001b[0m\u001b[32mj\u001b[0m\u001b[32m=\u001b[0m\u001b[32m1\u001b[0m\u001b[32m}\u001b[0m\u001b[32m^n \\\\sqrt\u001b[0m\u001b[32m{\u001b[0m\u001b[32m|x_i+x_j|\u001b[0m\u001b[32m}\u001b[0m\u001b[32m\\\\\u001b[0m\u001b[32m]\u001b[0m\u001b[32mholds for all real\u001b[0m \u001b[2m           \u001b[0m\n",
       "\u001b[2;36m                    \u001b[0m         \u001b[32mnumbers $x_1,\\\\ldots x_n.$\"\u001b[0m,                         \u001b[2m           \u001b[0m\n",
       "\u001b[2;36m                    \u001b[0m             \u001b[32m\"predicted_tags\"\u001b[0m: \u001b[1m[\u001b[0m                              \u001b[2m           \u001b[0m\n",
       "\u001b[2;36m                    \u001b[0m               \u001b[32m\"algebra\"\u001b[0m                                      \u001b[2m           \u001b[0m\n",
       "\u001b[2;36m                    \u001b[0m             \u001b[1m]\u001b[0m                                                \u001b[2m           \u001b[0m\n",
       "\u001b[2;36m                    \u001b[0m           \u001b[1m}\u001b[0m,                                                 \u001b[2m           \u001b[0m\n",
       "\u001b[2;36m                    \u001b[0m           \u001b[1m{\u001b[0m                                                  \u001b[2m           \u001b[0m\n",
       "\u001b[2;36m                    \u001b[0m             \u001b[32m\"input_text\"\u001b[0m: \u001b[32m\"Let $D$ be an interior point of \u001b[0m  \u001b[2m           \u001b[0m\n",
       "\u001b[2;36m                    \u001b[0m         \u001b[32mthe acute triangle $ABC$ with $AB > AC$ so that \u001b[0m     \u001b[2m           \u001b[0m\n",
       "\u001b[2;36m                    \u001b[0m         \u001b[32m$\\u0007ngle DAB = \\u0007ngle CAD.$ The point $E$ on \u001b[0m \u001b[2m           \u001b[0m\n",
       "\u001b[2;36m                    \u001b[0m         \u001b[32mthe segment $AC$ satisfies $\\u0007ngle ADE \u001b[0m          \u001b[2m           \u001b[0m\n",
       "\u001b[2;36m                    \u001b[0m         \u001b[32m=\\u0007ngle BCD,$ the point $F$ on the segment $AB$ \u001b[0m \u001b[2m           \u001b[0m\n",
       "\u001b[2;36m                    \u001b[0m         \u001b[32msatisfies $\\u0007ngle FDA =\\u0007ngle DBC,$ and the \u001b[0m \u001b[2m           \u001b[0m\n",
       "\u001b[2;36m                    \u001b[0m         \u001b[32mpoint $X$ on the line $AC$ satisfies $CX = BX.$ Let \u001b[0m \u001b[2m           \u001b[0m\n",
       "\u001b[2;36m                    \u001b[0m         \u001b[32m$O_1$ and $O_2$ be the circumcenters of the \u001b[0m         \u001b[2m           \u001b[0m\n",
       "\u001b[2;36m                    \u001b[0m         \u001b[32mtriangles $ADC$ and $EXD,$ respectively. Prove that \u001b[0m \u001b[2m           \u001b[0m\n",
       "\u001b[2;36m                    \u001b[0m         \u001b[32mthe lines $BC, EF,$ and $O_1O_2$ are concurrent.\"\u001b[0m,   \u001b[2m           \u001b[0m\n",
       "\u001b[2;36m                    \u001b[0m             \u001b[32m\"predicted_tags\"\u001b[0m: \u001b[1m[\u001b[0m                              \u001b[2m           \u001b[0m\n",
       "\u001b[2;36m                    \u001b[0m               \u001b[32m\"geometry\"\u001b[0m                                     \u001b[2m           \u001b[0m\n",
       "\u001b[2;36m                    \u001b[0m             \u001b[1m]\u001b[0m                                                \u001b[2m           \u001b[0m\n",
       "\u001b[2;36m                    \u001b[0m           \u001b[1m}\u001b[0m                                                  \u001b[2m           \u001b[0m\n",
       "\u001b[2;36m                    \u001b[0m         \u001b[1m]\u001b[0m                                                    \u001b[2m           \u001b[0m\n"
      ]
     },
     "metadata": {},
     "output_type": "display_data"
    }
   ],
   "source": [
    "text = [\n",
    "    \"Let $n \\geqslant 100$ be an integer. Ivan writes the numbers $n, n+1, \\ldots, 2 n$ each on different cards. He then shuffles these $n+1$ cards, and divides them into two piles. Prove that at least one of the piles contains two cards such that the sum of their numbers is a perfect square.\",\n",
    "    \"Show that the inequality\\[\\sum_{i=1}^n \\sum_{j=1}^n \\sqrt{|x_i-x_j|}\\leqslant \\sum_{i=1}^n \\sum_{j=1}^n \\sqrt{|x_i+x_j|}\\]holds for all real numbers $x_1,\\ldots x_n.$\",\n",
    "    \"Let $D$ be an interior point of the acute triangle $ABC$ with $AB > AC$ so that $\\angle DAB = \\angle CAD.$ The point $E$ on the segment $AC$ satisfies $\\angle ADE =\\angle BCD,$ the point $F$ on the segment $AB$ satisfies $\\angle FDA =\\angle DBC,$ and the point $X$ on the line $AC$ satisfies $CX = BX.$ Let $O_1$ and $O_2$ be the circumcenters of the triangles $ADC$ and $EXD,$ respectively. Prove that the lines $BC, EF,$ and $O_1O_2$ are concurrent.\",\n",
    "]\n",
    "run_id = open(Path(config.CONFIG_DIR, 'run_id.txt')).read()\n",
    "main.predict_tag(text=text, run_id=run_id)"
   ]
  }
 ],
 "metadata": {
  "kernelspec": {
   "display_name": "Python 3.8.12 ('venv': venv)",
   "language": "python",
   "name": "python3"
  },
  "language_info": {
   "codemirror_mode": {
    "name": "ipython",
    "version": 3
   },
   "file_extension": ".py",
   "mimetype": "text/x-python",
   "name": "python",
   "nbconvert_exporter": "python",
   "pygments_lexer": "ipython3",
   "version": "3.8.12"
  },
  "toc": {
   "base_numbering": 1,
   "nav_menu": {},
   "number_sections": true,
   "sideBar": true,
   "skip_h1_title": false,
   "title_cell": "Table of Contents",
   "title_sidebar": "Contents",
   "toc_cell": false,
   "toc_position": {},
   "toc_section_display": true,
   "toc_window_display": false
  },
  "vscode": {
   "interpreter": {
    "hash": "3ebc4dcb789a11be184a2742736b587e83db76d5f539fb2c43d40b28c485a568"
   }
  }
 },
 "nbformat": 4,
 "nbformat_minor": 5
}
