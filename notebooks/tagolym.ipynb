{
 "cells": [
  {
   "cell_type": "code",
   "execution_count": 1,
   "id": "8d41b179",
   "metadata": {},
   "outputs": [
    {
     "data": {
      "text/html": [
       "<pre style=\"white-space:pre;overflow-x:auto;line-height:normal;font-family:Menlo,'DejaVu Sans Mono',consolas,'Courier New',monospace\"><span style=\"color: #7fbfbf; text-decoration-color: #7fbfbf\">[06/18/22 16:07:35] </span><span style=\"color: #000080; text-decoration-color: #000080\">INFO    </span> Run ID: 32fc9cb5d35044a1aeb24b26976869ed              <a href=\"file://d:\\tagolym\\tagolym\\main.py\" target=\"_blank\"><span style=\"color: #7f7f7f; text-decoration-color: #7f7f7f\">main.py</span></a><span style=\"color: #7f7f7f; text-decoration-color: #7f7f7f\">:</span><a href=\"file://d:\\tagolym\\tagolym\\main.py#45\" target=\"_blank\"><span style=\"color: #7f7f7f; text-decoration-color: #7f7f7f\">45</span></a>\n",
       "</pre>\n"
      ],
      "text/plain": [
       "\u001b[2;36m[06/18/22 16:07:35]\u001b[0m\u001b[2;36m \u001b[0m\u001b[34mINFO    \u001b[0m Run ID: 32fc9cb5d35044a1aeb24b26976869ed              \u001b]8;id=782862;file://d:\\tagolym\\tagolym\\main.py\u001b\\\u001b[2mmain.py\u001b[0m\u001b]8;;\u001b\\\u001b[2m:\u001b[0m\u001b]8;id=484437;file://d:\\tagolym\\tagolym\\main.py#45\u001b\\\u001b[2m45\u001b[0m\u001b]8;;\u001b\\\n"
      ]
     },
     "metadata": {},
     "output_type": "display_data"
    },
    {
     "name": "stderr",
     "output_type": "stream",
     "text": [
      "100%|██████████| 15948/15948 [00:00<00:00, 21749.87it/s]\n",
      "100%|██████████| 3418/3418 [00:00<00:00, 20960.94it/s]\n",
      "100%|██████████| 3418/3418 [00:00<00:00, 24646.33it/s]\n"
     ]
    }
   ],
   "source": [
    "from pathlib import Path\n",
    "from config import config\n",
    "from tagolym import main\n",
    "args_fp = Path(config.CONFIG_DIR, 'args.json')\n",
    "main.train_model(args_fp, experiment_name='baselines', run_name='sgd')"
   ]
  },
  {
   "cell_type": "code",
   "execution_count": 2,
   "id": "1e498e8d",
   "metadata": {},
   "outputs": [
    {
     "name": "stderr",
     "output_type": "stream",
     "text": [
      "\u001b[32m[I 2022-06-18 16:08:23,169]\u001b[0m A new study created in memory with name: optimization\u001b[0m\n",
      "d:\\tagolym\\tagolym\\main.py:115: ExperimentalWarning: MLflowCallback is experimental (supported from v1.4.0). The interface can change in the future.\n",
      "  mlflow_callback = MLflowCallback(tracking_uri=mlflow.get_tracking_uri(), metric_name=\"f1\")\n",
      "100%|██████████| 15952/15952 [00:00<00:00, 25746.76it/s]\n",
      "100%|██████████| 3419/3419 [00:00<00:00, 9110.80it/s]\n",
      "100%|██████████| 3419/3419 [00:00<00:00, 24709.28it/s]\n",
      "\u001b[32m[I 2022-06-18 16:08:58,995]\u001b[0m Trial 0 finished with value: 0.8316099444213589 and parameters: {'nocommand': False, 'stem': True, 'ngram_max_range': 2, 'loss': 'modified_huber', 'l1_ratio': 0.6011150117432088, 'alpha': 0.001331121608073689}. Best is trial 0 with value: 0.8316099444213589.\u001b[0m\n",
      "100%|██████████| 15952/15952 [00:00<00:00, 23990.60it/s]\n",
      "100%|██████████| 3419/3419 [00:00<00:00, 25413.67it/s]\n",
      "100%|██████████| 3419/3419 [00:00<00:00, 22868.74it/s]\n",
      "\u001b[32m[I 2022-06-18 16:09:35,623]\u001b[0m Trial 1 finished with value: 0.8490624115842942 and parameters: {'nocommand': False, 'stem': True, 'ngram_max_range': 2, 'loss': 'modified_huber', 'l1_ratio': 0.43194501864211576, 'alpha': 7.476312062252303e-05}. Best is trial 1 with value: 0.8490624115842942.\u001b[0m\n",
      "100%|██████████| 15948/15948 [00:00<00:00, 26529.72it/s]\n",
      "100%|██████████| 3418/3418 [00:00<00:00, 20459.49it/s]\n",
      "100%|██████████| 3418/3418 [00:00<00:00, 13046.77it/s]\n",
      "\u001b[32m[I 2022-06-18 16:10:01,230]\u001b[0m Trial 2 finished with value: 0.85510548874456 and parameters: {'nocommand': True, 'stem': False, 'ngram_max_range': 3, 'loss': 'hinge', 'l1_ratio': 0.5924145688620425, 'alpha': 1.3783237455007187e-05}. Best is trial 2 with value: 0.85510548874456.\u001b[0m\n",
      "100%|██████████| 15948/15948 [00:00<00:00, 21044.33it/s]\n",
      "100%|██████████| 3418/3418 [00:00<00:00, 17990.24it/s]\n",
      "100%|██████████| 3418/3418 [00:00<00:00, 19416.47it/s]\n",
      "\u001b[32m[I 2022-06-18 16:10:29,300]\u001b[0m Trial 3 finished with value: 0.84042015614683 and parameters: {'nocommand': True, 'stem': False, 'ngram_max_range': 4, 'loss': 'hinge', 'l1_ratio': 0.6842330265121569, 'alpha': 0.00020914981329035596}. Best is trial 2 with value: 0.85510548874456.\u001b[0m\n",
      "100%|██████████| 15952/15952 [00:00<00:00, 26184.91it/s]\n",
      "100%|██████████| 3419/3419 [00:00<00:00, 23907.36it/s]\n",
      "100%|██████████| 3419/3419 [00:00<00:00, 24275.68it/s]\n",
      "\u001b[32m[I 2022-06-18 16:10:51,293]\u001b[0m Trial 4 finished with value: 0.8500444077094063 and parameters: {'nocommand': False, 'stem': False, 'ngram_max_range': 2, 'loss': 'hinge', 'l1_ratio': 0.5467102793432796, 'alpha': 3.585612610345396e-05}. Best is trial 2 with value: 0.85510548874456.\u001b[0m\n",
      "100%|██████████| 15948/15948 [00:00<00:00, 24595.67it/s]\n",
      "100%|██████████| 3418/3418 [00:00<00:00, 10936.65it/s]\n",
      "100%|██████████| 3418/3418 [00:00<00:00, 21499.93it/s]\n",
      "\u001b[32m[I 2022-06-18 16:11:29,626]\u001b[0m Trial 5 finished with value: 0.8586474886199349 and parameters: {'nocommand': True, 'stem': True, 'ngram_max_range': 3, 'loss': 'hinge', 'l1_ratio': 0.045227288910538066, 'alpha': 9.46217535646148e-05}. Best is trial 5 with value: 0.8586474886199349.\u001b[0m\n",
      "100%|██████████| 15948/15948 [00:00<00:00, 24946.97it/s]\n",
      "100%|██████████| 3418/3418 [00:00<00:00, 25318.83it/s]\n",
      "100%|██████████| 3418/3418 [00:00<00:00, 25214.50it/s]\n",
      "\u001b[32m[I 2022-06-18 16:12:04,435]\u001b[0m Trial 6 finished with value: 0.8184519316472021 and parameters: {'nocommand': True, 'stem': True, 'ngram_max_range': 2, 'loss': 'modified_huber', 'l1_ratio': 0.07455064367977082, 'alpha': 0.009133995846860976}. Best is trial 5 with value: 0.8586474886199349.\u001b[0m\n",
      "100%|██████████| 15948/15948 [00:00<00:00, 25634.15it/s]\n",
      "100%|██████████| 3418/3418 [00:00<00:00, 21975.19it/s]\n",
      "100%|██████████| 3418/3418 [00:00<00:00, 24971.71it/s]\n",
      "\u001b[32m[I 2022-06-18 16:12:32,520]\u001b[0m Trial 7 finished with value: 0.8532747285775989 and parameters: {'nocommand': True, 'stem': False, 'ngram_max_range': 4, 'loss': 'log', 'l1_ratio': 0.3584657285442726, 'alpha': 2.2264204303769678e-05}. Best is trial 5 with value: 0.8586474886199349.\u001b[0m\n",
      "100%|██████████| 15948/15948 [00:00<00:00, 20928.12it/s]\n",
      "100%|██████████| 3418/3418 [00:00<00:00, 24949.15it/s]\n",
      "100%|██████████| 3418/3418 [00:00<00:00, 24693.16it/s]\n",
      "\u001b[32m[I 2022-06-18 16:13:07,746]\u001b[0m Trial 8 finished with value: 0.8372488677024844 and parameters: {'nocommand': True, 'stem': True, 'ngram_max_range': 2, 'loss': 'log', 'l1_ratio': 0.8872127425763265, 'alpha': 0.00026100256506134784}. Best is trial 5 with value: 0.8586474886199349.\u001b[0m\n",
      "100%|██████████| 15952/15952 [00:00<00:00, 23680.92it/s]\n",
      "100%|██████████| 3419/3419 [00:00<00:00, 17476.93it/s]\n",
      "100%|██████████| 3419/3419 [00:00<00:00, 7769.04it/s]\n",
      "\u001b[32m[I 2022-06-18 16:13:52,176]\u001b[0m Trial 9 finished with value: 0.8489485766146802 and parameters: {'nocommand': False, 'stem': True, 'ngram_max_range': 4, 'loss': 'log', 'l1_ratio': 0.02541912674409519, 'alpha': 2.1070472806578224e-05}. Best is trial 5 with value: 0.8586474886199349.\u001b[0m\n",
      "100%|██████████| 15948/15948 [00:00<00:00, 22984.35it/s]\n",
      "100%|██████████| 3418/3418 [00:00<00:00, 21101.75it/s]\n",
      "100%|██████████| 3418/3418 [00:00<00:00, 14284.89it/s]\n",
      "\u001b[32m[I 2022-06-18 16:14:30,479]\u001b[0m Trial 10 finished with value: 0.8296369609714412 and parameters: {'nocommand': True, 'stem': True, 'ngram_max_range': 3, 'loss': 'hinge', 'l1_ratio': 0.20317732021302487, 'alpha': 0.0011769044926591642}. Best is trial 5 with value: 0.8586474886199349.\u001b[0m\n",
      "100%|██████████| 15948/15948 [00:00<00:00, 27225.90it/s]\n",
      "100%|██████████| 3418/3418 [00:00<00:00, 22051.99it/s]\n",
      "100%|██████████| 3418/3418 [00:00<00:00, 6667.60it/s]\n",
      "\u001b[32m[I 2022-06-18 16:14:56,588]\u001b[0m Trial 11 finished with value: 0.8532838154418275 and parameters: {'nocommand': True, 'stem': False, 'ngram_max_range': 3, 'loss': 'hinge', 'l1_ratio': 0.8207033393994186, 'alpha': 1.0410485131114793e-05}. Best is trial 5 with value: 0.8586474886199349.\u001b[0m\n",
      "100%|██████████| 15948/15948 [00:00<00:00, 24728.41it/s]\n",
      "100%|██████████| 3418/3418 [00:00<00:00, 7315.34it/s]\n",
      "100%|██████████| 3418/3418 [00:00<00:00, 18990.16it/s]\n",
      "\u001b[32m[I 2022-06-18 16:15:22,039]\u001b[0m Trial 12 finished with value: 0.8539589745131599 and parameters: {'nocommand': True, 'stem': False, 'ngram_max_range': 3, 'loss': 'hinge', 'l1_ratio': 0.31615030538102024, 'alpha': 9.711724707816161e-05}. Best is trial 5 with value: 0.8586474886199349.\u001b[0m\n",
      "100%|██████████| 15948/15948 [00:00<00:00, 19839.04it/s]\n",
      "100%|██████████| 3418/3418 [00:00<00:00, 23099.99it/s]\n",
      "100%|██████████| 3418/3418 [00:00<00:00, 21497.93it/s]\n",
      "\u001b[32m[I 2022-06-18 16:15:47,505]\u001b[0m Trial 13 finished with value: 0.8566356682745123 and parameters: {'nocommand': True, 'stem': False, 'ngram_max_range': 3, 'loss': 'hinge', 'l1_ratio': 0.681306815521197, 'alpha': 6.65970389393196e-05}. Best is trial 5 with value: 0.8586474886199349.\u001b[0m\n",
      "100%|██████████| 15948/15948 [00:00<00:00, 22251.99it/s]\n",
      "100%|██████████| 3418/3418 [00:00<00:00, 15672.34it/s]\n",
      "100%|██████████| 3418/3418 [00:00<00:00, 21476.32it/s]\n",
      "\u001b[32m[I 2022-06-18 16:16:13,297]\u001b[0m Trial 14 finished with value: 0.851894086271786 and parameters: {'nocommand': True, 'stem': False, 'ngram_max_range': 3, 'loss': 'hinge', 'l1_ratio': 0.9674364834653937, 'alpha': 7.451221422012647e-05}. Best is trial 5 with value: 0.8586474886199349.\u001b[0m\n",
      "100%|██████████| 15948/15948 [00:00<00:00, 23387.11it/s]\n",
      "100%|██████████| 3418/3418 [00:00<00:00, 18136.56it/s]\n",
      "100%|██████████| 3418/3418 [00:00<00:00, 15879.49it/s]\n",
      "\u001b[32m[I 2022-06-18 16:16:51,730]\u001b[0m Trial 15 finished with value: 0.8211686411150388 and parameters: {'nocommand': True, 'stem': True, 'ngram_max_range': 3, 'loss': 'hinge', 'l1_ratio': 0.7071084770468725, 'alpha': 0.0008590551698794434}. Best is trial 5 with value: 0.8586474886199349.\u001b[0m\n",
      "100%|██████████| 15948/15948 [00:00<00:00, 24847.99it/s]\n",
      "100%|██████████| 3418/3418 [00:00<00:00, 18576.54it/s]\n",
      "100%|██████████| 3418/3418 [00:00<00:00, 10233.89it/s]\n",
      "\u001b[32m[I 2022-06-18 16:17:20,166]\u001b[0m Trial 16 finished with value: 0.8494189137316315 and parameters: {'nocommand': True, 'stem': False, 'ngram_max_range': 4, 'loss': 'hinge', 'l1_ratio': 0.1923598785883956, 'alpha': 0.00013715294253000945}. Best is trial 5 with value: 0.8586474886199349.\u001b[0m\n",
      "100%|██████████| 15948/15948 [00:00<00:00, 22743.60it/s]\n",
      "100%|██████████| 3418/3418 [00:00<00:00, 19645.96it/s]\n",
      "100%|██████████| 3418/3418 [00:00<00:00, 20915.77it/s]\n",
      "\u001b[32m[I 2022-06-18 16:17:57,815]\u001b[0m Trial 17 finished with value: 0.8543572814068043 and parameters: {'nocommand': True, 'stem': True, 'ngram_max_range': 3, 'loss': 'hinge', 'l1_ratio': 0.7866278717699986, 'alpha': 4.735706854426618e-05}. Best is trial 5 with value: 0.8586474886199349.\u001b[0m\n",
      "100%|██████████| 15952/15952 [00:00<00:00, 25914.97it/s]\n",
      "100%|██████████| 3419/3419 [00:00<00:00, 21503.41it/s]\n",
      "100%|██████████| 3419/3419 [00:00<00:00, 24454.56it/s]\n",
      "\u001b[32m[I 2022-06-18 16:18:23,385]\u001b[0m Trial 18 finished with value: 0.8408266055329859 and parameters: {'nocommand': False, 'stem': False, 'ngram_max_range': 3, 'loss': 'modified_huber', 'l1_ratio': 0.4635948403953022, 'alpha': 0.0005153064270019567}. Best is trial 5 with value: 0.8586474886199349.\u001b[0m\n",
      "100%|██████████| 15948/15948 [00:00<00:00, 17956.79it/s]\n",
      "100%|██████████| 3418/3418 [00:00<00:00, 18967.80it/s]\n",
      "100%|██████████| 3418/3418 [00:00<00:00, 18992.13it/s]\n",
      "\u001b[32m[I 2022-06-18 16:19:04,307]\u001b[0m Trial 19 finished with value: 0.7647906390450843 and parameters: {'nocommand': True, 'stem': True, 'ngram_max_range': 4, 'loss': 'log', 'l1_ratio': 0.17036880819841754, 'alpha': 0.0037927099025923754}. Best is trial 5 with value: 0.8586474886199349.\u001b[0m\n",
      "100%|██████████| 15948/15948 [00:00<00:00, 21720.80it/s]\n",
      "100%|██████████| 3418/3418 [00:00<00:00, 21369.37it/s]\n",
      "100%|██████████| 3418/3418 [00:00<00:00, 14545.14it/s]\n",
      "\u001b[32m[I 2022-06-18 16:19:38,802]\u001b[0m Trial 20 finished with value: 0.8333355879817799 and parameters: {'learning_rate': 'invscaling', 'eta0': 0.25965037677653763, 'power_t': 0.36661425572308765}. Best is trial 5 with value: 0.8586474886199349.\u001b[0m\n",
      "100%|██████████| 15948/15948 [00:00<00:00, 29533.40it/s]\n",
      "100%|██████████| 3418/3418 [00:00<00:00, 20104.63it/s]\n",
      "100%|██████████| 3418/3418 [00:00<00:00, 20444.29it/s]\n",
      "\u001b[32m[I 2022-06-18 16:20:12,283]\u001b[0m Trial 21 finished with value: 0.8586474886199349 and parameters: {'learning_rate': 'optimal'}. Best is trial 5 with value: 0.8586474886199349.\u001b[0m\n",
      "100%|██████████| 15948/15948 [00:00<00:00, 29049.65it/s]\n",
      "100%|██████████| 3418/3418 [00:00<00:00, 16686.37it/s]\n",
      "100%|██████████| 3418/3418 [00:00<00:00, 23629.02it/s]\n",
      "\u001b[32m[I 2022-06-18 16:20:45,475]\u001b[0m Trial 22 finished with value: 0.8586474886199349 and parameters: {'learning_rate': 'optimal'}. Best is trial 5 with value: 0.8586474886199349.\u001b[0m\n",
      "100%|██████████| 15948/15948 [00:00<00:00, 27930.43it/s]\n",
      "100%|██████████| 3418/3418 [00:00<00:00, 17476.22it/s]\n",
      "100%|██████████| 3418/3418 [00:00<00:00, 18991.22it/s]\n",
      "\u001b[32m[I 2022-06-18 16:21:18,801]\u001b[0m Trial 23 finished with value: 0.8586474886199349 and parameters: {'learning_rate': 'optimal'}. Best is trial 5 with value: 0.8586474886199349.\u001b[0m\n",
      "100%|██████████| 15948/15948 [00:00<00:00, 29471.64it/s]\n",
      "100%|██████████| 3418/3418 [00:00<00:00, 19948.67it/s]\n",
      "100%|██████████| 3418/3418 [00:00<00:00, 18884.30it/s]\n",
      "\u001b[32m[I 2022-06-18 16:21:51,796]\u001b[0m Trial 24 finished with value: 0.8586474886199349 and parameters: {'learning_rate': 'optimal'}. Best is trial 5 with value: 0.8586474886199349.\u001b[0m\n",
      "100%|██████████| 15948/15948 [00:00<00:00, 27349.56it/s]\n",
      "100%|██████████| 3418/3418 [00:00<00:00, 18477.49it/s]\n",
      "100%|██████████| 3418/3418 [00:00<00:00, 15440.65it/s]\n",
      "\u001b[32m[I 2022-06-18 16:22:25,426]\u001b[0m Trial 25 finished with value: 0.8586474886199349 and parameters: {'learning_rate': 'optimal'}. Best is trial 5 with value: 0.8586474886199349.\u001b[0m\n",
      "100%|██████████| 15948/15948 [00:00<00:00, 22189.77it/s]\n",
      "100%|██████████| 3418/3418 [00:00<00:00, 20469.48it/s]\n",
      "100%|██████████| 3418/3418 [00:00<00:00, 22790.75it/s]\n",
      "\u001b[32m[I 2022-06-18 16:22:58,633]\u001b[0m Trial 26 finished with value: 0.8586474886199349 and parameters: {'learning_rate': 'optimal'}. Best is trial 5 with value: 0.8586474886199349.\u001b[0m\n",
      "100%|██████████| 15948/15948 [00:00<00:00, 24360.12it/s]\n",
      "100%|██████████| 3418/3418 [00:00<00:00, 19089.80it/s]\n",
      "100%|██████████| 3418/3418 [00:00<00:00, 18619.63it/s]\n",
      "\u001b[32m[I 2022-06-18 16:23:35,948]\u001b[0m Trial 27 finished with value: 0.8404758681903144 and parameters: {'learning_rate': 'adaptive', 'eta0': 0.011819786349763372}. Best is trial 5 with value: 0.8586474886199349.\u001b[0m\n",
      "100%|██████████| 15948/15948 [00:00<00:00, 25436.25it/s]\n",
      "100%|██████████| 3418/3418 [00:00<00:00, 18375.32it/s]\n",
      "100%|██████████| 3418/3418 [00:00<00:00, 15609.03it/s]\n",
      "\u001b[32m[I 2022-06-18 16:24:09,648]\u001b[0m Trial 28 finished with value: 0.8586474886199349 and parameters: {'learning_rate': 'optimal'}. Best is trial 5 with value: 0.8586474886199349.\u001b[0m\n",
      "100%|██████████| 15948/15948 [00:00<00:00, 25848.31it/s]\n",
      "100%|██████████| 3418/3418 [00:00<00:00, 22456.52it/s]\n",
      "100%|██████████| 3418/3418 [00:00<00:00, 23112.47it/s]\n",
      "\u001b[32m[I 2022-06-18 16:24:43,024]\u001b[0m Trial 29 finished with value: 0.8531910493211124 and parameters: {'learning_rate': 'constant', 'eta0': 0.8520499116629789}. Best is trial 5 with value: 0.8586474886199349.\u001b[0m\n",
      "100%|██████████| 15948/15948 [00:00<00:00, 27979.11it/s]\n",
      "100%|██████████| 3418/3418 [00:00<00:00, 19784.32it/s]\n",
      "100%|██████████| 3418/3418 [00:00<00:00, 20108.44it/s]\n",
      "\u001b[32m[I 2022-06-18 16:25:16,176]\u001b[0m Trial 30 finished with value: 0.8586474886199349 and parameters: {'learning_rate': 'optimal'}. Best is trial 5 with value: 0.8586474886199349.\u001b[0m\n",
      "100%|██████████| 15948/15948 [00:00<00:00, 21207.11it/s]\n",
      "100%|██████████| 3418/3418 [00:00<00:00, 19659.76it/s]\n",
      "100%|██████████| 3418/3418 [00:00<00:00, 23573.73it/s]\n",
      "\u001b[32m[I 2022-06-18 16:25:49,934]\u001b[0m Trial 31 finished with value: 0.8586474886199349 and parameters: {'learning_rate': 'optimal'}. Best is trial 5 with value: 0.8586474886199349.\u001b[0m\n",
      "100%|██████████| 15948/15948 [00:00<00:00, 23803.13it/s]\n",
      "100%|██████████| 3418/3418 [00:00<00:00, 23095.78it/s]\n",
      "100%|██████████| 3418/3418 [00:00<00:00, 22533.65it/s]\n",
      "\u001b[32m[I 2022-06-18 16:26:23,258]\u001b[0m Trial 32 finished with value: 0.8586474886199349 and parameters: {'learning_rate': 'optimal'}. Best is trial 5 with value: 0.8586474886199349.\u001b[0m\n",
      "100%|██████████| 15948/15948 [00:00<00:00, 28971.64it/s]\n",
      "100%|██████████| 3418/3418 [00:00<00:00, 20509.43it/s]\n",
      "100%|██████████| 3418/3418 [00:00<00:00, 23662.10it/s]\n",
      "\u001b[32m[I 2022-06-18 16:26:56,479]\u001b[0m Trial 33 finished with value: 0.8586474886199349 and parameters: {'learning_rate': 'optimal'}. Best is trial 5 with value: 0.8586474886199349.\u001b[0m\n",
      "100%|██████████| 15948/15948 [00:00<00:00, 28632.32it/s]\n",
      "100%|██████████| 3418/3418 [00:00<00:00, 23253.73it/s]\n",
      "100%|██████████| 3418/3418 [00:00<00:00, 22790.67it/s]\n",
      "\u001b[32m[I 2022-06-18 16:27:29,596]\u001b[0m Trial 34 finished with value: 0.8586474886199349 and parameters: {'learning_rate': 'optimal'}. Best is trial 5 with value: 0.8586474886199349.\u001b[0m\n",
      "100%|██████████| 15948/15948 [00:00<00:00, 27215.14it/s]\n",
      "100%|██████████| 3418/3418 [00:00<00:00, 23575.56it/s]\n",
      "100%|██████████| 3418/3418 [00:00<00:00, 22197.75it/s]\n",
      "\u001b[32m[I 2022-06-18 16:28:02,716]\u001b[0m Trial 35 finished with value: 0.8586474886199349 and parameters: {'learning_rate': 'optimal'}. Best is trial 5 with value: 0.8586474886199349.\u001b[0m\n",
      "100%|██████████| 15948/15948 [00:00<00:00, 29865.25it/s]\n",
      "100%|██████████| 3418/3418 [00:00<00:00, 20981.93it/s]\n",
      "100%|██████████| 3418/3418 [00:00<00:00, 18805.13it/s]\n",
      "\u001b[32m[I 2022-06-18 16:28:36,405]\u001b[0m Trial 36 finished with value: 0.8425044639643554 and parameters: {'learning_rate': 'constant', 'eta0': 0.01796127153155591}. Best is trial 5 with value: 0.8586474886199349.\u001b[0m\n",
      "100%|██████████| 15948/15948 [00:00<00:00, 24090.73it/s]\n",
      "100%|██████████| 3418/3418 [00:00<00:00, 21497.25it/s]\n",
      "100%|██████████| 3418/3418 [00:00<00:00, 23414.19it/s]\n",
      "\u001b[32m[I 2022-06-18 16:29:14,553]\u001b[0m Trial 37 finished with value: 0.8542017492297639 and parameters: {'learning_rate': 'adaptive', 'eta0': 0.06753422950586127}. Best is trial 5 with value: 0.8586474886199349.\u001b[0m\n",
      "100%|██████████| 15948/15948 [00:00<00:00, 22978.23it/s]\n",
      "100%|██████████| 3418/3418 [00:00<00:00, 20753.00it/s]\n",
      "100%|██████████| 3418/3418 [00:00<00:00, 18355.02it/s]\n",
      "\u001b[32m[I 2022-06-18 16:29:48,130]\u001b[0m Trial 38 finished with value: 0.8450379784304174 and parameters: {'learning_rate': 'invscaling', 'eta0': 0.06613644475520926, 'power_t': 0.1055917838247388}. Best is trial 5 with value: 0.8586474886199349.\u001b[0m\n",
      "100%|██████████| 15948/15948 [00:00<00:00, 27886.46it/s]\n",
      "100%|██████████| 3418/3418 [00:00<00:00, 23951.15it/s]\n",
      "100%|██████████| 3418/3418 [00:00<00:00, 17897.10it/s]\n",
      "\u001b[32m[I 2022-06-18 16:30:21,235]\u001b[0m Trial 39 finished with value: 0.8586474886199349 and parameters: {'learning_rate': 'optimal'}. Best is trial 5 with value: 0.8586474886199349.\u001b[0m\n"
     ]
    },
    {
     "data": {
      "text/html": [
       "<pre style=\"white-space:pre;overflow-x:auto;line-height:normal;font-family:Menlo,'DejaVu Sans Mono',consolas,'Courier New',monospace\"><span style=\"color: #7fbfbf; text-decoration-color: #7fbfbf\">[06/18/22 16:30:21] </span><span style=\"color: #000080; text-decoration-color: #000080\">INFO    </span> Best value <span style=\"font-weight: bold\">(</span>f1<span style=\"font-weight: bold\">)</span>: <span style=\"color: #008080; text-decoration-color: #008080; font-weight: bold\">0.8586474886199349</span>                  <a href=\"file://d:\\tagolym\\tagolym\\main.py\" target=\"_blank\"><span style=\"color: #7f7f7f; text-decoration-color: #7f7f7f\">main.py</span></a><span style=\"color: #7f7f7f; text-decoration-color: #7f7f7f\">:</span><a href=\"file://d:\\tagolym\\tagolym\\main.py#136\" target=\"_blank\"><span style=\"color: #7f7f7f; text-decoration-color: #7f7f7f\">136</span></a>\n",
       "</pre>\n"
      ],
      "text/plain": [
       "\u001b[2;36m[06/18/22 16:30:21]\u001b[0m\u001b[2;36m \u001b[0m\u001b[34mINFO    \u001b[0m Best value \u001b[1m(\u001b[0mf1\u001b[1m)\u001b[0m: \u001b[1;36m0.8586474886199349\u001b[0m                  \u001b]8;id=73199;file://d:\\tagolym\\tagolym\\main.py\u001b\\\u001b[2mmain.py\u001b[0m\u001b]8;;\u001b\\\u001b[2m:\u001b[0m\u001b]8;id=98837;file://d:\\tagolym\\tagolym\\main.py#136\u001b\\\u001b[2m136\u001b[0m\u001b]8;;\u001b\\\n"
      ]
     },
     "metadata": {},
     "output_type": "display_data"
    },
    {
     "data": {
      "text/html": [
       "<pre style=\"white-space:pre;overflow-x:auto;line-height:normal;font-family:Menlo,'DejaVu Sans Mono',consolas,'Courier New',monospace\"><span style=\"color: #7fbfbf; text-decoration-color: #7fbfbf\">                    </span><span style=\"color: #000080; text-decoration-color: #000080\">INFO    </span> Best hyperparameters: <span style=\"font-weight: bold\">{</span>                              <a href=\"file://d:\\tagolym\\tagolym\\main.py\" target=\"_blank\"><span style=\"color: #7f7f7f; text-decoration-color: #7f7f7f\">main.py</span></a><span style=\"color: #7f7f7f; text-decoration-color: #7f7f7f\">:</span><a href=\"file://d:\\tagolym\\tagolym\\main.py#137\" target=\"_blank\"><span style=\"color: #7f7f7f; text-decoration-color: #7f7f7f\">137</span></a>\n",
       "<span style=\"color: #7fbfbf; text-decoration-color: #7fbfbf\">                    </span>           <span style=\"color: #008000; text-decoration-color: #008000\">\"nocommand\"</span>: true,                                 <span style=\"color: #7f7f7f; text-decoration-color: #7f7f7f\">           </span>\n",
       "<span style=\"color: #7fbfbf; text-decoration-color: #7fbfbf\">                    </span>           <span style=\"color: #008000; text-decoration-color: #008000\">\"stem\"</span>: true,                                      <span style=\"color: #7f7f7f; text-decoration-color: #7f7f7f\">           </span>\n",
       "<span style=\"color: #7fbfbf; text-decoration-color: #7fbfbf\">                    </span>           <span style=\"color: #008000; text-decoration-color: #008000\">\"ngram_max_range\"</span>: <span style=\"color: #008080; text-decoration-color: #008080; font-weight: bold\">3</span>,                              <span style=\"color: #7f7f7f; text-decoration-color: #7f7f7f\">           </span>\n",
       "<span style=\"color: #7fbfbf; text-decoration-color: #7fbfbf\">                    </span>           <span style=\"color: #008000; text-decoration-color: #008000\">\"loss\"</span>: <span style=\"color: #008000; text-decoration-color: #008000\">\"hinge\"</span>,                                   <span style=\"color: #7f7f7f; text-decoration-color: #7f7f7f\">           </span>\n",
       "<span style=\"color: #7fbfbf; text-decoration-color: #7fbfbf\">                    </span>           <span style=\"color: #008000; text-decoration-color: #008000\">\"l1_ratio\"</span>: <span style=\"color: #008080; text-decoration-color: #008080; font-weight: bold\">0.045227288910538066</span>,                  <span style=\"color: #7f7f7f; text-decoration-color: #7f7f7f\">           </span>\n",
       "<span style=\"color: #7fbfbf; text-decoration-color: #7fbfbf\">                    </span>           <span style=\"color: #008000; text-decoration-color: #008000\">\"alpha\"</span>: <span style=\"color: #008080; text-decoration-color: #008080; font-weight: bold\">9.46217535646148e-05</span>,                     <span style=\"color: #7f7f7f; text-decoration-color: #7f7f7f\">           </span>\n",
       "<span style=\"color: #7fbfbf; text-decoration-color: #7fbfbf\">                    </span>           <span style=\"color: #008000; text-decoration-color: #008000\">\"learning_rate\"</span>: <span style=\"color: #008000; text-decoration-color: #008000\">\"optimal\"</span>,                        <span style=\"color: #7f7f7f; text-decoration-color: #7f7f7f\">           </span>\n",
       "<span style=\"color: #7fbfbf; text-decoration-color: #7fbfbf\">                    </span>           <span style=\"color: #008000; text-decoration-color: #008000\">\"eta0\"</span>: <span style=\"color: #008080; text-decoration-color: #008080; font-weight: bold\">0.06613644475520926</span>,                       <span style=\"color: #7f7f7f; text-decoration-color: #7f7f7f\">           </span>\n",
       "<span style=\"color: #7fbfbf; text-decoration-color: #7fbfbf\">                    </span>           <span style=\"color: #008000; text-decoration-color: #008000\">\"power_t\"</span>: <span style=\"color: #008080; text-decoration-color: #008080; font-weight: bold\">0.1055917838247388</span>                      <span style=\"color: #7f7f7f; text-decoration-color: #7f7f7f\">           </span>\n",
       "<span style=\"color: #7fbfbf; text-decoration-color: #7fbfbf\">                    </span>         <span style=\"font-weight: bold\">}</span>                                                    <span style=\"color: #7f7f7f; text-decoration-color: #7f7f7f\">           </span>\n",
       "</pre>\n"
      ],
      "text/plain": [
       "\u001b[2;36m                   \u001b[0m\u001b[2;36m \u001b[0m\u001b[34mINFO    \u001b[0m Best hyperparameters: \u001b[1m{\u001b[0m                              \u001b]8;id=573911;file://d:\\tagolym\\tagolym\\main.py\u001b\\\u001b[2mmain.py\u001b[0m\u001b]8;;\u001b\\\u001b[2m:\u001b[0m\u001b]8;id=457938;file://d:\\tagolym\\tagolym\\main.py#137\u001b\\\u001b[2m137\u001b[0m\u001b]8;;\u001b\\\n",
       "\u001b[2;36m                    \u001b[0m           \u001b[32m\"nocommand\"\u001b[0m: true,                                 \u001b[2m           \u001b[0m\n",
       "\u001b[2;36m                    \u001b[0m           \u001b[32m\"stem\"\u001b[0m: true,                                      \u001b[2m           \u001b[0m\n",
       "\u001b[2;36m                    \u001b[0m           \u001b[32m\"ngram_max_range\"\u001b[0m: \u001b[1;36m3\u001b[0m,                              \u001b[2m           \u001b[0m\n",
       "\u001b[2;36m                    \u001b[0m           \u001b[32m\"loss\"\u001b[0m: \u001b[32m\"hinge\"\u001b[0m,                                   \u001b[2m           \u001b[0m\n",
       "\u001b[2;36m                    \u001b[0m           \u001b[32m\"l1_ratio\"\u001b[0m: \u001b[1;36m0.045227288910538066\u001b[0m,                  \u001b[2m           \u001b[0m\n",
       "\u001b[2;36m                    \u001b[0m           \u001b[32m\"alpha\"\u001b[0m: \u001b[1;36m9.46217535646148e-05\u001b[0m,                     \u001b[2m           \u001b[0m\n",
       "\u001b[2;36m                    \u001b[0m           \u001b[32m\"learning_rate\"\u001b[0m: \u001b[32m\"optimal\"\u001b[0m,                        \u001b[2m           \u001b[0m\n",
       "\u001b[2;36m                    \u001b[0m           \u001b[32m\"eta0\"\u001b[0m: \u001b[1;36m0.06613644475520926\u001b[0m,                       \u001b[2m           \u001b[0m\n",
       "\u001b[2;36m                    \u001b[0m           \u001b[32m\"power_t\"\u001b[0m: \u001b[1;36m0.1055917838247388\u001b[0m                      \u001b[2m           \u001b[0m\n",
       "\u001b[2;36m                    \u001b[0m         \u001b[1m}\u001b[0m                                                    \u001b[2m           \u001b[0m\n"
      ]
     },
     "metadata": {},
     "output_type": "display_data"
    },
    {
     "data": {
      "text/html": [
       "<pre style=\"white-space:pre;overflow-x:auto;line-height:normal;font-family:Menlo,'DejaVu Sans Mono',consolas,'Courier New',monospace\"><span style=\"color: #7fbfbf; text-decoration-color: #7fbfbf\">                    </span><span style=\"color: #000080; text-decoration-color: #000080\">INFO    </span> Run ID: b0c49af8e0274b9fb00edccfe8bdb24f              <a href=\"file://d:\\tagolym\\tagolym\\main.py\" target=\"_blank\"><span style=\"color: #7f7f7f; text-decoration-color: #7f7f7f\">main.py</span></a><span style=\"color: #7f7f7f; text-decoration-color: #7f7f7f\">:</span><a href=\"file://d:\\tagolym\\tagolym\\main.py#45\" target=\"_blank\"><span style=\"color: #7f7f7f; text-decoration-color: #7f7f7f\">45</span></a>\n",
       "</pre>\n"
      ],
      "text/plain": [
       "\u001b[2;36m                   \u001b[0m\u001b[2;36m \u001b[0m\u001b[34mINFO    \u001b[0m Run ID: b0c49af8e0274b9fb00edccfe8bdb24f              \u001b]8;id=821541;file://d:\\tagolym\\tagolym\\main.py\u001b\\\u001b[2mmain.py\u001b[0m\u001b]8;;\u001b\\\u001b[2m:\u001b[0m\u001b]8;id=641940;file://d:\\tagolym\\tagolym\\main.py#45\u001b\\\u001b[2m45\u001b[0m\u001b]8;;\u001b\\\n"
      ]
     },
     "metadata": {},
     "output_type": "display_data"
    },
    {
     "name": "stderr",
     "output_type": "stream",
     "text": [
      "100%|██████████| 15948/15948 [00:00<00:00, 28844.28it/s]\n",
      "100%|██████████| 3418/3418 [00:00<00:00, 13972.70it/s]\n",
      "100%|██████████| 3418/3418 [00:00<00:00, 20717.82it/s]\n"
     ]
    }
   ],
   "source": [
    "main.optimize(args_fp, study_name='optimization', num_trials=20)\n",
    "args_fp = Path(config.CONFIG_DIR, 'args_opt.json')\n",
    "main.train_model(args_fp, experiment_name='best', run_name='sgd')"
   ]
  },
  {
   "cell_type": "code",
   "execution_count": 3,
   "id": "2dc7a433",
   "metadata": {},
   "outputs": [
    {
     "data": {
      "text/html": [
       "<pre style=\"white-space:pre;overflow-x:auto;line-height:normal;font-family:Menlo,'DejaVu Sans Mono',consolas,'Courier New',monospace\"><span style=\"color: #7fbfbf; text-decoration-color: #7fbfbf\">[06/18/22 16:30:59] </span><span style=\"color: #000080; text-decoration-color: #000080\">INFO    </span> <span style=\"font-weight: bold\">[</span>                                                    <a href=\"file://d:\\tagolym\\tagolym\\main.py\" target=\"_blank\"><span style=\"color: #7f7f7f; text-decoration-color: #7f7f7f\">main.py</span></a><span style=\"color: #7f7f7f; text-decoration-color: #7f7f7f\">:</span><a href=\"file://d:\\tagolym\\tagolym\\main.py#185\" target=\"_blank\"><span style=\"color: #7f7f7f; text-decoration-color: #7f7f7f\">185</span></a>\n",
       "<span style=\"color: #7fbfbf; text-decoration-color: #7fbfbf\">                    </span>           <span style=\"font-weight: bold\">{</span>                                                  <span style=\"color: #7f7f7f; text-decoration-color: #7f7f7f\">           </span>\n",
       "<span style=\"color: #7fbfbf; text-decoration-color: #7fbfbf\">                    </span>             <span style=\"color: #008000; text-decoration-color: #008000\">\"input_text\"</span>: <span style=\"color: #008000; text-decoration-color: #008000\">\"Let $n \\\\geqslant 100$ be an </span>     <span style=\"color: #7f7f7f; text-decoration-color: #7f7f7f\">           </span>\n",
       "<span style=\"color: #7fbfbf; text-decoration-color: #7fbfbf\">                    </span>         <span style=\"color: #008000; text-decoration-color: #008000\">integer. Ivan writes the numbers $n, n+1, \\\\ldots, 2</span> <span style=\"color: #7f7f7f; text-decoration-color: #7f7f7f\">           </span>\n",
       "<span style=\"color: #7fbfbf; text-decoration-color: #7fbfbf\">                    </span>         <span style=\"color: #008000; text-decoration-color: #008000\">n$ each on different cards. He then shuffles these </span>  <span style=\"color: #7f7f7f; text-decoration-color: #7f7f7f\">           </span>\n",
       "<span style=\"color: #7fbfbf; text-decoration-color: #7fbfbf\">                    </span>         <span style=\"color: #008000; text-decoration-color: #008000\">$n+1$ cards, and divides them into two piles. Prove </span> <span style=\"color: #7f7f7f; text-decoration-color: #7f7f7f\">           </span>\n",
       "<span style=\"color: #7fbfbf; text-decoration-color: #7fbfbf\">                    </span>         <span style=\"color: #008000; text-decoration-color: #008000\">that at least one of the piles contains two cards </span>   <span style=\"color: #7f7f7f; text-decoration-color: #7f7f7f\">           </span>\n",
       "<span style=\"color: #7fbfbf; text-decoration-color: #7fbfbf\">                    </span>         <span style=\"color: #008000; text-decoration-color: #008000\">such that the sum of their numbers is a perfect </span>     <span style=\"color: #7f7f7f; text-decoration-color: #7f7f7f\">           </span>\n",
       "<span style=\"color: #7fbfbf; text-decoration-color: #7fbfbf\">                    </span>         <span style=\"color: #008000; text-decoration-color: #008000\">square.\"</span>,                                            <span style=\"color: #7f7f7f; text-decoration-color: #7f7f7f\">           </span>\n",
       "<span style=\"color: #7fbfbf; text-decoration-color: #7fbfbf\">                    </span>             <span style=\"color: #008000; text-decoration-color: #008000\">\"predicted_tags\"</span>: <span style=\"font-weight: bold\">[</span>                              <span style=\"color: #7f7f7f; text-decoration-color: #7f7f7f\">           </span>\n",
       "<span style=\"color: #7fbfbf; text-decoration-color: #7fbfbf\">                    </span>               <span style=\"color: #008000; text-decoration-color: #008000\">\"combinatorics\"</span>                                <span style=\"color: #7f7f7f; text-decoration-color: #7f7f7f\">           </span>\n",
       "<span style=\"color: #7fbfbf; text-decoration-color: #7fbfbf\">                    </span>             <span style=\"font-weight: bold\">]</span>                                                <span style=\"color: #7f7f7f; text-decoration-color: #7f7f7f\">           </span>\n",
       "<span style=\"color: #7fbfbf; text-decoration-color: #7fbfbf\">                    </span>           <span style=\"font-weight: bold\">}</span>,                                                 <span style=\"color: #7f7f7f; text-decoration-color: #7f7f7f\">           </span>\n",
       "<span style=\"color: #7fbfbf; text-decoration-color: #7fbfbf\">                    </span>           <span style=\"font-weight: bold\">{</span>                                                  <span style=\"color: #7f7f7f; text-decoration-color: #7f7f7f\">           </span>\n",
       "<span style=\"color: #7fbfbf; text-decoration-color: #7fbfbf\">                    </span>             <span style=\"color: #008000; text-decoration-color: #008000\">\"input_text\"</span>: <span style=\"color: #008000; text-decoration-color: #008000\">\"Show that the </span>                    <span style=\"color: #7f7f7f; text-decoration-color: #7f7f7f\">           </span>\n",
       "<span style=\"color: #7fbfbf; text-decoration-color: #7fbfbf\">                    </span>         <span style=\"color: #008000; text-decoration-color: #008000\">inequality\\[\\\\sum_{i=1}^n \\\\sum_{j=1}^n </span>             <span style=\"color: #7f7f7f; text-decoration-color: #7f7f7f\">           </span>\n",
       "<span style=\"color: #7fbfbf; text-decoration-color: #7fbfbf\">                    </span>         <span style=\"color: #008000; text-decoration-color: #008000\">\\\\sqrt{|x_i-x_j|}\\\\leqslant \\\\sum_{i=1}^n </span>           <span style=\"color: #7f7f7f; text-decoration-color: #7f7f7f\">           </span>\n",
       "<span style=\"color: #7fbfbf; text-decoration-color: #7fbfbf\">                    </span>         <span style=\"color: #008000; text-decoration-color: #008000\">\\\\sum_{j=1}^n \\\\sqrt{|x_i+x_j|}\\\\]holds for all real</span> <span style=\"color: #7f7f7f; text-decoration-color: #7f7f7f\">           </span>\n",
       "<span style=\"color: #7fbfbf; text-decoration-color: #7fbfbf\">                    </span>         <span style=\"color: #008000; text-decoration-color: #008000\">numbers $x_1,\\\\ldots x_n.$\"</span>,                         <span style=\"color: #7f7f7f; text-decoration-color: #7f7f7f\">           </span>\n",
       "<span style=\"color: #7fbfbf; text-decoration-color: #7fbfbf\">                    </span>             <span style=\"color: #008000; text-decoration-color: #008000\">\"predicted_tags\"</span>: <span style=\"font-weight: bold\">[</span>                              <span style=\"color: #7f7f7f; text-decoration-color: #7f7f7f\">           </span>\n",
       "<span style=\"color: #7fbfbf; text-decoration-color: #7fbfbf\">                    </span>               <span style=\"color: #008000; text-decoration-color: #008000\">\"algebra\"</span>                                      <span style=\"color: #7f7f7f; text-decoration-color: #7f7f7f\">           </span>\n",
       "<span style=\"color: #7fbfbf; text-decoration-color: #7fbfbf\">                    </span>             <span style=\"font-weight: bold\">]</span>                                                <span style=\"color: #7f7f7f; text-decoration-color: #7f7f7f\">           </span>\n",
       "<span style=\"color: #7fbfbf; text-decoration-color: #7fbfbf\">                    </span>           <span style=\"font-weight: bold\">}</span>,                                                 <span style=\"color: #7f7f7f; text-decoration-color: #7f7f7f\">           </span>\n",
       "<span style=\"color: #7fbfbf; text-decoration-color: #7fbfbf\">                    </span>           <span style=\"font-weight: bold\">{</span>                                                  <span style=\"color: #7f7f7f; text-decoration-color: #7f7f7f\">           </span>\n",
       "<span style=\"color: #7fbfbf; text-decoration-color: #7fbfbf\">                    </span>             <span style=\"color: #008000; text-decoration-color: #008000\">\"input_text\"</span>: <span style=\"color: #008000; text-decoration-color: #008000\">\"Let $D$ be an interior point of </span>  <span style=\"color: #7f7f7f; text-decoration-color: #7f7f7f\">           </span>\n",
       "<span style=\"color: #7fbfbf; text-decoration-color: #7fbfbf\">                    </span>         <span style=\"color: #008000; text-decoration-color: #008000\">the acute triangle $ABC$ with $AB &gt; AC$ so that </span>     <span style=\"color: #7f7f7f; text-decoration-color: #7f7f7f\">           </span>\n",
       "<span style=\"color: #7fbfbf; text-decoration-color: #7fbfbf\">                    </span>         <span style=\"color: #008000; text-decoration-color: #008000\">$\\u0007ngle DAB = \\u0007ngle CAD.$ The point $E$ on </span> <span style=\"color: #7f7f7f; text-decoration-color: #7f7f7f\">           </span>\n",
       "<span style=\"color: #7fbfbf; text-decoration-color: #7fbfbf\">                    </span>         <span style=\"color: #008000; text-decoration-color: #008000\">the segment $AC$ satisfies $\\u0007ngle ADE </span>          <span style=\"color: #7f7f7f; text-decoration-color: #7f7f7f\">           </span>\n",
       "<span style=\"color: #7fbfbf; text-decoration-color: #7fbfbf\">                    </span>         <span style=\"color: #008000; text-decoration-color: #008000\">=\\u0007ngle BCD,$ the point $F$ on the segment $AB$ </span> <span style=\"color: #7f7f7f; text-decoration-color: #7f7f7f\">           </span>\n",
       "<span style=\"color: #7fbfbf; text-decoration-color: #7fbfbf\">                    </span>         <span style=\"color: #008000; text-decoration-color: #008000\">satisfies $\\u0007ngle FDA =\\u0007ngle DBC,$ and the </span> <span style=\"color: #7f7f7f; text-decoration-color: #7f7f7f\">           </span>\n",
       "<span style=\"color: #7fbfbf; text-decoration-color: #7fbfbf\">                    </span>         <span style=\"color: #008000; text-decoration-color: #008000\">point $X$ on the line $AC$ satisfies $CX = BX.$ Let </span> <span style=\"color: #7f7f7f; text-decoration-color: #7f7f7f\">           </span>\n",
       "<span style=\"color: #7fbfbf; text-decoration-color: #7fbfbf\">                    </span>         <span style=\"color: #008000; text-decoration-color: #008000\">$O_1$ and $O_2$ be the circumcenters of the </span>         <span style=\"color: #7f7f7f; text-decoration-color: #7f7f7f\">           </span>\n",
       "<span style=\"color: #7fbfbf; text-decoration-color: #7fbfbf\">                    </span>         <span style=\"color: #008000; text-decoration-color: #008000\">triangles $ADC$ and $EXD,$ respectively. Prove that </span> <span style=\"color: #7f7f7f; text-decoration-color: #7f7f7f\">           </span>\n",
       "<span style=\"color: #7fbfbf; text-decoration-color: #7fbfbf\">                    </span>         <span style=\"color: #008000; text-decoration-color: #008000\">the lines $BC, EF,$ and $O_1O_2$ are concurrent.\"</span>,   <span style=\"color: #7f7f7f; text-decoration-color: #7f7f7f\">           </span>\n",
       "<span style=\"color: #7fbfbf; text-decoration-color: #7fbfbf\">                    </span>             <span style=\"color: #008000; text-decoration-color: #008000\">\"predicted_tags\"</span>: <span style=\"font-weight: bold\">[</span>                              <span style=\"color: #7f7f7f; text-decoration-color: #7f7f7f\">           </span>\n",
       "<span style=\"color: #7fbfbf; text-decoration-color: #7fbfbf\">                    </span>               <span style=\"color: #008000; text-decoration-color: #008000\">\"geometry\"</span>                                     <span style=\"color: #7f7f7f; text-decoration-color: #7f7f7f\">           </span>\n",
       "<span style=\"color: #7fbfbf; text-decoration-color: #7fbfbf\">                    </span>             <span style=\"font-weight: bold\">]</span>                                                <span style=\"color: #7f7f7f; text-decoration-color: #7f7f7f\">           </span>\n",
       "<span style=\"color: #7fbfbf; text-decoration-color: #7fbfbf\">                    </span>           <span style=\"font-weight: bold\">}</span>                                                  <span style=\"color: #7f7f7f; text-decoration-color: #7f7f7f\">           </span>\n",
       "<span style=\"color: #7fbfbf; text-decoration-color: #7fbfbf\">                    </span>         <span style=\"font-weight: bold\">]</span>                                                    <span style=\"color: #7f7f7f; text-decoration-color: #7f7f7f\">           </span>\n",
       "</pre>\n"
      ],
      "text/plain": [
       "\u001b[2;36m[06/18/22 16:30:59]\u001b[0m\u001b[2;36m \u001b[0m\u001b[34mINFO    \u001b[0m \u001b[1m[\u001b[0m                                                    \u001b]8;id=805357;file://d:\\tagolym\\tagolym\\main.py\u001b\\\u001b[2mmain.py\u001b[0m\u001b]8;;\u001b\\\u001b[2m:\u001b[0m\u001b]8;id=476988;file://d:\\tagolym\\tagolym\\main.py#185\u001b\\\u001b[2m185\u001b[0m\u001b]8;;\u001b\\\n",
       "\u001b[2;36m                    \u001b[0m           \u001b[1m{\u001b[0m                                                  \u001b[2m           \u001b[0m\n",
       "\u001b[2;36m                    \u001b[0m             \u001b[32m\"input_text\"\u001b[0m: \u001b[32m\"Let $n \\\\geqslant 100$ be an \u001b[0m     \u001b[2m           \u001b[0m\n",
       "\u001b[2;36m                    \u001b[0m         \u001b[32minteger. Ivan writes the numbers $n, n+1, \\\\ldots, 2\u001b[0m \u001b[2m           \u001b[0m\n",
       "\u001b[2;36m                    \u001b[0m         \u001b[32mn$ each on different cards. He then shuffles these \u001b[0m  \u001b[2m           \u001b[0m\n",
       "\u001b[2;36m                    \u001b[0m         \u001b[32m$n+1$ cards, and divides them into two piles. Prove \u001b[0m \u001b[2m           \u001b[0m\n",
       "\u001b[2;36m                    \u001b[0m         \u001b[32mthat at least one of the piles contains two cards \u001b[0m   \u001b[2m           \u001b[0m\n",
       "\u001b[2;36m                    \u001b[0m         \u001b[32msuch that the sum of their numbers is a perfect \u001b[0m     \u001b[2m           \u001b[0m\n",
       "\u001b[2;36m                    \u001b[0m         \u001b[32msquare.\"\u001b[0m,                                            \u001b[2m           \u001b[0m\n",
       "\u001b[2;36m                    \u001b[0m             \u001b[32m\"predicted_tags\"\u001b[0m: \u001b[1m[\u001b[0m                              \u001b[2m           \u001b[0m\n",
       "\u001b[2;36m                    \u001b[0m               \u001b[32m\"combinatorics\"\u001b[0m                                \u001b[2m           \u001b[0m\n",
       "\u001b[2;36m                    \u001b[0m             \u001b[1m]\u001b[0m                                                \u001b[2m           \u001b[0m\n",
       "\u001b[2;36m                    \u001b[0m           \u001b[1m}\u001b[0m,                                                 \u001b[2m           \u001b[0m\n",
       "\u001b[2;36m                    \u001b[0m           \u001b[1m{\u001b[0m                                                  \u001b[2m           \u001b[0m\n",
       "\u001b[2;36m                    \u001b[0m             \u001b[32m\"input_text\"\u001b[0m: \u001b[32m\"Show that the \u001b[0m                    \u001b[2m           \u001b[0m\n",
       "\u001b[2;36m                    \u001b[0m         \u001b[32minequality\\\u001b[0m\u001b[32m[\u001b[0m\u001b[32m\\\\sum_\u001b[0m\u001b[32m{\u001b[0m\u001b[32mi\u001b[0m\u001b[32m=\u001b[0m\u001b[32m1\u001b[0m\u001b[32m}\u001b[0m\u001b[32m^n \\\\sum_\u001b[0m\u001b[32m{\u001b[0m\u001b[32mj\u001b[0m\u001b[32m=\u001b[0m\u001b[32m1\u001b[0m\u001b[32m}\u001b[0m\u001b[32m^n \u001b[0m             \u001b[2m           \u001b[0m\n",
       "\u001b[2;36m                    \u001b[0m         \u001b[32m\\\\sqrt\u001b[0m\u001b[32m{\u001b[0m\u001b[32m|x_i-x_j|\u001b[0m\u001b[32m}\u001b[0m\u001b[32m\\\\leqslant \\\\sum_\u001b[0m\u001b[32m{\u001b[0m\u001b[32mi\u001b[0m\u001b[32m=\u001b[0m\u001b[32m1\u001b[0m\u001b[32m}\u001b[0m\u001b[32m^n \u001b[0m           \u001b[2m           \u001b[0m\n",
       "\u001b[2;36m                    \u001b[0m         \u001b[32m\\\\sum_\u001b[0m\u001b[32m{\u001b[0m\u001b[32mj\u001b[0m\u001b[32m=\u001b[0m\u001b[32m1\u001b[0m\u001b[32m}\u001b[0m\u001b[32m^n \\\\sqrt\u001b[0m\u001b[32m{\u001b[0m\u001b[32m|x_i+x_j|\u001b[0m\u001b[32m}\u001b[0m\u001b[32m\\\\\u001b[0m\u001b[32m]\u001b[0m\u001b[32mholds for all real\u001b[0m \u001b[2m           \u001b[0m\n",
       "\u001b[2;36m                    \u001b[0m         \u001b[32mnumbers $x_1,\\\\ldots x_n.$\"\u001b[0m,                         \u001b[2m           \u001b[0m\n",
       "\u001b[2;36m                    \u001b[0m             \u001b[32m\"predicted_tags\"\u001b[0m: \u001b[1m[\u001b[0m                              \u001b[2m           \u001b[0m\n",
       "\u001b[2;36m                    \u001b[0m               \u001b[32m\"algebra\"\u001b[0m                                      \u001b[2m           \u001b[0m\n",
       "\u001b[2;36m                    \u001b[0m             \u001b[1m]\u001b[0m                                                \u001b[2m           \u001b[0m\n",
       "\u001b[2;36m                    \u001b[0m           \u001b[1m}\u001b[0m,                                                 \u001b[2m           \u001b[0m\n",
       "\u001b[2;36m                    \u001b[0m           \u001b[1m{\u001b[0m                                                  \u001b[2m           \u001b[0m\n",
       "\u001b[2;36m                    \u001b[0m             \u001b[32m\"input_text\"\u001b[0m: \u001b[32m\"Let $D$ be an interior point of \u001b[0m  \u001b[2m           \u001b[0m\n",
       "\u001b[2;36m                    \u001b[0m         \u001b[32mthe acute triangle $ABC$ with $AB > AC$ so that \u001b[0m     \u001b[2m           \u001b[0m\n",
       "\u001b[2;36m                    \u001b[0m         \u001b[32m$\\u0007ngle DAB = \\u0007ngle CAD.$ The point $E$ on \u001b[0m \u001b[2m           \u001b[0m\n",
       "\u001b[2;36m                    \u001b[0m         \u001b[32mthe segment $AC$ satisfies $\\u0007ngle ADE \u001b[0m          \u001b[2m           \u001b[0m\n",
       "\u001b[2;36m                    \u001b[0m         \u001b[32m=\\u0007ngle BCD,$ the point $F$ on the segment $AB$ \u001b[0m \u001b[2m           \u001b[0m\n",
       "\u001b[2;36m                    \u001b[0m         \u001b[32msatisfies $\\u0007ngle FDA =\\u0007ngle DBC,$ and the \u001b[0m \u001b[2m           \u001b[0m\n",
       "\u001b[2;36m                    \u001b[0m         \u001b[32mpoint $X$ on the line $AC$ satisfies $CX = BX.$ Let \u001b[0m \u001b[2m           \u001b[0m\n",
       "\u001b[2;36m                    \u001b[0m         \u001b[32m$O_1$ and $O_2$ be the circumcenters of the \u001b[0m         \u001b[2m           \u001b[0m\n",
       "\u001b[2;36m                    \u001b[0m         \u001b[32mtriangles $ADC$ and $EXD,$ respectively. Prove that \u001b[0m \u001b[2m           \u001b[0m\n",
       "\u001b[2;36m                    \u001b[0m         \u001b[32mthe lines $BC, EF,$ and $O_1O_2$ are concurrent.\"\u001b[0m,   \u001b[2m           \u001b[0m\n",
       "\u001b[2;36m                    \u001b[0m             \u001b[32m\"predicted_tags\"\u001b[0m: \u001b[1m[\u001b[0m                              \u001b[2m           \u001b[0m\n",
       "\u001b[2;36m                    \u001b[0m               \u001b[32m\"geometry\"\u001b[0m                                     \u001b[2m           \u001b[0m\n",
       "\u001b[2;36m                    \u001b[0m             \u001b[1m]\u001b[0m                                                \u001b[2m           \u001b[0m\n",
       "\u001b[2;36m                    \u001b[0m           \u001b[1m}\u001b[0m                                                  \u001b[2m           \u001b[0m\n",
       "\u001b[2;36m                    \u001b[0m         \u001b[1m]\u001b[0m                                                    \u001b[2m           \u001b[0m\n"
      ]
     },
     "metadata": {},
     "output_type": "display_data"
    }
   ],
   "source": [
    "text = [\n",
    "    \"Let $n \\geqslant 100$ be an integer. Ivan writes the numbers $n, n+1, \\ldots, 2 n$ each on different cards. He then shuffles these $n+1$ cards, and divides them into two piles. Prove that at least one of the piles contains two cards such that the sum of their numbers is a perfect square.\",\n",
    "    \"Show that the inequality\\[\\sum_{i=1}^n \\sum_{j=1}^n \\sqrt{|x_i-x_j|}\\leqslant \\sum_{i=1}^n \\sum_{j=1}^n \\sqrt{|x_i+x_j|}\\]holds for all real numbers $x_1,\\ldots x_n.$\",\n",
    "    \"Let $D$ be an interior point of the acute triangle $ABC$ with $AB > AC$ so that $\\angle DAB = \\angle CAD.$ The point $E$ on the segment $AC$ satisfies $\\angle ADE =\\angle BCD,$ the point $F$ on the segment $AB$ satisfies $\\angle FDA =\\angle DBC,$ and the point $X$ on the line $AC$ satisfies $CX = BX.$ Let $O_1$ and $O_2$ be the circumcenters of the triangles $ADC$ and $EXD,$ respectively. Prove that the lines $BC, EF,$ and $O_1O_2$ are concurrent.\",\n",
    "]\n",
    "run_id = open(Path(config.CONFIG_DIR, 'run_id.txt')).read()\n",
    "main.predict_tag(text=text, run_id=run_id)"
   ]
  }
 ],
 "metadata": {
  "kernelspec": {
   "display_name": "Python 3.8.12 ('venv': venv)",
   "language": "python",
   "name": "python3"
  },
  "language_info": {
   "codemirror_mode": {
    "name": "ipython",
    "version": 3
   },
   "file_extension": ".py",
   "mimetype": "text/x-python",
   "name": "python",
   "nbconvert_exporter": "python",
   "pygments_lexer": "ipython3",
   "version": "3.8.12"
  },
  "toc": {
   "base_numbering": 1,
   "nav_menu": {},
   "number_sections": true,
   "sideBar": true,
   "skip_h1_title": false,
   "title_cell": "Table of Contents",
   "title_sidebar": "Contents",
   "toc_cell": false,
   "toc_position": {},
   "toc_section_display": true,
   "toc_window_display": false
  },
  "vscode": {
   "interpreter": {
    "hash": "3ebc4dcb789a11be184a2742736b587e83db76d5f539fb2c43d40b28c485a568"
   }
  }
 },
 "nbformat": 4,
 "nbformat_minor": 5
}
